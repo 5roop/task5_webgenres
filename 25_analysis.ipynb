{
 "cells": [
  {
   "cell_type": "code",
   "execution_count": 2,
   "metadata": {},
   "outputs": [],
   "source": [
    "import os\n",
    "import time\n",
    "import json\n",
    "import utils\n",
    "import parse\n",
    "import fasttext\n",
    "import numpy as np\n",
    "import pandas as pd\n",
    "from scipy import stats\n",
    "from sklearn.metrics import f1_score\n",
    "import matplotlib.pyplot as plt\n",
    "\n"
   ]
  },
  {
   "cell_type": "code",
   "execution_count": 3,
   "metadata": {},
   "outputs": [],
   "source": [
    "columns = [\"suitable\"] + [f\"run_{i}\" for i in range(15)]\n",
    "df = pd.read_csv(\"backup_25.csv\").loc[:, columns]\n",
    "y_true, y_pred = [], []\n",
    "\n",
    "for i in range(15):\n",
    "    y_true.extend(df.suitable.values.tolist())\n",
    "    y_pred.extend(df[f\"run_{i}\"].values.tolist())\n"
   ]
  },
  {
   "cell_type": "code",
   "execution_count": 4,
   "metadata": {},
   "outputs": [
    {
     "name": "stdout",
     "output_type": "stream",
     "text": [
      "microF1=0.9163\n",
      "macroF1=0.7159\n"
     ]
    },
    {
     "data": {
      "image/png": "[encoded data removed]",
      "text/plain": [
       "<Figure size 288x288 with 1 Axes>"
      ]
     },
     "metadata": {
      "needs_background": "light"
     },
     "output_type": "display_data"
    },
    {
     "data": {
      "text/plain": [
       "(0.9162962962962963, 0.7159204969199487)"
      ]
     },
     "execution_count": 4,
     "metadata": {},
     "output_type": "execute_result"
    }
   ],
   "source": [
    "utils.plot_cm(y_true, y_pred, labels=[1,0], title=\"Cumulative CM, suitable=1, nonsuitable=0\", \n",
    "save=\"images/25_cumulative_CM.png\", include_metrics=False, figsize=(4,4))"
   ]
  },
  {
   "cell_type": "code",
   "execution_count": 21,
   "metadata": {},
   "outputs": [],
   "source": [
    "f1s = list()\n",
    "for i in range(15):\n",
    "    from sklearn.metrics import f1_score\n",
    "    from sklearn.dummy import DummyClassifier\n",
    "    y_true = df.suitable.values\n",
    "    y_pred = df[f\"run_{i}\"].values\n",
    "    f1s.append(f1_score(y_true, y_pred))"
   ]
  },
  {
   "cell_type": "code",
   "execution_count": 22,
   "metadata": {},
   "outputs": [
    {
     "data": {
      "text/plain": [
       "(0.9544980538407455, 0.002851664406272193)"
      ]
     },
     "execution_count": 22,
     "metadata": {},
     "output_type": "execute_result"
    }
   ],
   "source": [
    "np.mean(f1s), np.std(f1s)"
   ]
  },
  {
   "cell_type": "code",
   "execution_count": 24,
   "metadata": {},
   "outputs": [
    {
     "name": "stdout",
     "output_type": "stream",
     "text": [
      "Dummy clf: strategy: 'stratified', 0.894 +/- 0.00945\n",
      "\t p_value: 1.69e-06\n",
      "Dummy clf: strategy: 'most_frequent', 0.942 +/- 0.0\n",
      "\t p_value: 3.41e-07\n"
     ]
    }
   ],
   "source": [
    "dummy_f1s = list()\n",
    "for i in range(15):\n",
    "    from sklearn.metrics import f1_score\n",
    "    from sklearn.dummy import DummyClassifier\n",
    "    y_true = df.suitable.values\n",
    "    dummy_clf = DummyClassifier(strategy=\"stratified\")\n",
    "    dummy_clf.fit(y_true, y_true)\n",
    "    y_pred = dummy_clf.predict(y_true)\n",
    "    dummy_f1s.append(f1_score(y_true, y_pred))\n",
    "print(f\"Dummy clf: strategy: 'stratified', {np.mean(dummy_f1s):0.3} +/- {np.std(dummy_f1s):0.3}\")\n",
    "p = stats.mannwhitneyu(f1s, dummy_f1s, alternative='greater')[1]\n",
    "print(f\"\\t p_value: {p:0.3}\")\n",
    "dummy_f1s = list()\n",
    "for i in range(15):\n",
    "    from sklearn.metrics import f1_score\n",
    "    from sklearn.dummy import DummyClassifier\n",
    "    y_true = df.suitable.values\n",
    "    dummy_clf = DummyClassifier(strategy=\"most_frequent\")\n",
    "    dummy_clf.fit(y_true, y_true)\n",
    "    y_pred = dummy_clf.predict(y_true)\n",
    "    dummy_f1s.append(f1_score(y_true, y_pred))\n",
    "print(f\"Dummy clf: strategy: 'most_frequent', {np.mean(dummy_f1s):0.3} +/- {np.std(dummy_f1s):0.3}\")\n",
    "p = stats.mannwhitneyu(f1s, dummy_f1s, alternative='greater')[1]\n",
    "print(f\"\\t p_value: {p:0.3}\")"
   ]
  },
  {
   "cell_type": "code",
   "execution_count": null,
   "metadata": {},
   "outputs": [],
   "source": []
  }
 ],
 "metadata": {
  "interpreter": {
   "hash": "7f6f5766036ee03d059e365a942add07f79c17033585e9357ee8157d52fe6bb9"
  },
  "kernelspec": {
   "display_name": "Python 3.8.3 64-bit ('base': conda)",
   "language": "python",
   "name": "python3"
  },
  "language_info": {
   "codemirror_mode": {
    "name": "ipython",
    "version": 3
   },
   "file_extension": ".py",
   "mimetype": "text/x-python",
   "name": "python",
   "nbconvert_exporter": "python",
   "pygments_lexer": "ipython3",
   "version": "3.8.3"
  },
  "orig_nbformat": 4
 },
 "nbformat": 4,
 "nbformat_minor": 2
}
