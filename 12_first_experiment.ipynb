{
 "cells": [
  {
   "cell_type": "code",
   "execution_count": 7,
   "metadata": {},
   "outputs": [
    {
     "name": "stdout",
     "output_type": "stream",
     "text": [
      "[]\n"
     ]
    },
    {
     "name": "stderr",
     "output_type": "stream",
     "text": [
      "Some weights of the model checkpoint at EMBEDDIA/sloberta were not used when initializing CamembertForSequenceClassification: ['lm_head.layer_norm.weight', 'lm_head.dense.bias', 'lm_head.bias', 'lm_head.decoder.weight', 'lm_head.dense.weight', 'lm_head.layer_norm.bias', 'lm_head.decoder.bias']\n",
      "- This IS expected if you are initializing CamembertForSequenceClassification from the checkpoint of a model trained on another task or with another architecture (e.g. initializing a BertForSequenceClassification model from a BertForPreTraining model).\n",
      "- This IS NOT expected if you are initializing CamembertForSequenceClassification from the checkpoint of a model that you expect to be exactly identical (initializing a BertForSequenceClassification model from a BertForSequenceClassification model).\n",
      "Some weights of CamembertForSequenceClassification were not initialized from the model checkpoint at EMBEDDIA/sloberta and are newly initialized: ['classifier.dense.bias', 'classifier.out_proj.weight', 'classifier.dense.weight', 'roberta.pooler.dense.bias', 'roberta.pooler.dense.weight', 'classifier.out_proj.bias']\n",
      "You should probably TRAIN this model on a down-stream task to be able to use it for predictions and inference.\n",
      "/home/peterr/anaconda3/lib/python3.8/site-packages/simpletransformers/classification/classification_model.py:489: UserWarning: use_multiprocessing automatically disabled as camembert fails when using multiprocessing for feature conversion.\n",
      "  warnings.warn(\n"
     ]
    },
    {
     "data": {
      "application/vnd.jupyter.widget-view+json": {
       "model_id": "25bac36f944645b1a02495fe83e49525",
       "version_major": 2,
       "version_minor": 0
      },
      "text/plain": [
       "HBox(children=(FloatProgress(value=0.0, description='Epoch', max=30.0, style=ProgressStyle(description_width='…"
      ]
     },
     "metadata": {},
     "output_type": "display_data"
    },
    {
     "data": {
      "application/vnd.jupyter.widget-view+json": {
       "model_id": "0979125103c64030b16030a61e004472",
       "version_major": 2,
       "version_minor": 0
      },
      "text/plain": [
       "HBox(children=(FloatProgress(value=0.0, description='Running Epoch 0 of 30', max=57.0, style=ProgressStyle(des…"
      ]
     },
     "metadata": {},
     "output_type": "display_data"
    },
    {
     "name": "stderr",
     "output_type": "stream",
     "text": [
      "/home/peterr/anaconda3/lib/python3.8/site-packages/simpletransformers/classification/classification_model.py:941: FutureWarning: Non-finite norm encountered in torch.nn.utils.clip_grad_norm_; continuing anyway. Note that the default behavior will change in a future release to error out if a non-finite total norm is encountered. At that point, setting error_if_nonfinite=false will be required to retain the old behavior.\n",
      "  torch.nn.utils.clip_grad_norm_(\n"
     ]
    },
    {
     "name": "stdout",
     "output_type": "stream",
     "text": [
      "\n"
     ]
    },
    {
     "data": {
      "application/vnd.jupyter.widget-view+json": {
       "model_id": "4fa8be627cf74ac6bbcb2fc6cd490ec7",
       "version_major": 2,
       "version_minor": 0
      },
      "text/plain": [
       "HBox(children=(FloatProgress(value=0.0, description='Running Epoch 1 of 30', max=57.0, style=ProgressStyle(des…"
      ]
     },
     "metadata": {},
     "output_type": "display_data"
    },
    {
     "name": "stdout",
     "output_type": "stream",
     "text": [
      "\n"
     ]
    },
    {
     "data": {
      "application/vnd.jupyter.widget-view+json": {
       "model_id": "432c0f267ca24758976366790f9c03ff",
       "version_major": 2,
       "version_minor": 0
      },
      "text/plain": [
       "HBox(children=(FloatProgress(value=0.0, description='Running Epoch 2 of 30', max=57.0, style=ProgressStyle(des…"
      ]
     },
     "metadata": {},
     "output_type": "display_data"
    },
    {
     "name": "stdout",
     "output_type": "stream",
     "text": [
      "\n"
     ]
    },
    {
     "data": {
      "application/vnd.jupyter.widget-view+json": {
       "model_id": "95f438b6087f4c18b95a8d2a891e89f8",
       "version_major": 2,
       "version_minor": 0
      },
      "text/plain": [
       "HBox(children=(FloatProgress(value=0.0, description='Running Epoch 3 of 30', max=57.0, style=ProgressStyle(des…"
      ]
     },
     "metadata": {},
     "output_type": "display_data"
    },
    {
     "name": "stdout",
     "output_type": "stream",
     "text": [
      "\n"
     ]
    },
    {
     "data": {
      "application/vnd.jupyter.widget-view+json": {
       "model_id": "fb1677cc24534e918a6c8ed3226598f7",
       "version_major": 2,
       "version_minor": 0
      },
      "text/plain": [
       "HBox(children=(FloatProgress(value=0.0, description='Running Epoch 4 of 30', max=57.0, style=ProgressStyle(des…"
      ]
     },
     "metadata": {},
     "output_type": "display_data"
    },
    {
     "name": "stdout",
     "output_type": "stream",
     "text": [
      "\n"
     ]
    },
    {
     "data": {
      "application/vnd.jupyter.widget-view+json": {
       "model_id": "78269fd7ea61415385e3506fe630d1d4",
       "version_major": 2,
       "version_minor": 0
      },
      "text/plain": [
       "HBox(children=(FloatProgress(value=0.0, description='Running Epoch 5 of 30', max=57.0, style=ProgressStyle(des…"
      ]
     },
     "metadata": {},
     "output_type": "display_data"
    }
   ],
   "source": [
    "import os\n",
    "import parse\n",
    "import fasttext\n",
    "import numpy as np\n",
    "import pandas as pd\n",
    "from sklearn.metrics import f1_score\n",
    "import matplotlib.pyplot as plt\n",
    "datadir = \"/home/peterr/macocu/task5_webgenres/data/final/fasttext2\"\n",
    "\n",
    "dev_full = os.path.join(datadir, \"dev_onlyprimary_True_dedup_False.fasttext\")\n",
    "test_full = os.path.join(datadir, \"test_onlyprimary_True_dedup_False.fasttext\")\n",
    "train_full = os.path.join(datadir, \"train_onlyprimary_True_dedup_False.fasttext\")\n",
    "\n",
    "\n",
    "dev_dd = os.path.join(datadir, \"dev_onlyprimary_True_dedup_True.fasttext\")\n",
    "test_dd = os.path.join(datadir, \"test_onlyprimary_True_dedup_True.fasttext\")\n",
    "train_dd = os.path.join(datadir, \"train_onlyprimary_True_dedup_True.fasttext\")\n",
    "\n",
    "\n",
    "train_labels = ['__label__Legal/Regulation', '__label__Opinionated_News', '__label__News/Reporting', '__label__Forum', '__label__Correspondence', '__label__Invitation', '__label__Instruction', '__label__Recipe', '__label__Opinion/Argumentation', '__label__Promotion_of_Services', '__label__Promotion', '__label__List_of_Summaries/Excerpts', '__label__Promotion_of_a_Product', '__label__Call', '__label__Review', '__label__Other', '__label__Information/Explanation', '__label__Interview', '__label__Prose', '__label__Research_Article', '__label__Announcement']\n",
    "\n",
    "STR_TO_NUM = {s: i for i, s in enumerate(train_labels)}\n",
    "NUM_TO_STR = {i: s for i, s in enumerate(train_labels)}\n",
    "\n",
    "\n",
    "def parse_fasttext_file(path: str, encode=True):\n",
    "    \"\"\"Reads fasttext formatted file and returns dataframe.\"\"\"\n",
    "    with open(path, \"r\") as f:\n",
    "        content = f.readlines()\n",
    "    pattern = \"{label} {text}\\n\"\n",
    "    p = parse.compile(pattern)\n",
    "\n",
    "    labels, texts = list(), list()\n",
    "    for line in content:\n",
    "        rez = p.parse(line)\n",
    "        if rez is not None:\n",
    "            labels.append(rez[\"label\"])\n",
    "            texts.append(rez[\"text\"])\n",
    "        else:\n",
    "            pass\n",
    "            #print(\"error parsing line \", line)\n",
    "    if encode:\n",
    "        labels = [STR_TO_NUM[i] for i in labels]\n",
    "    return pd.DataFrame(data={\"text\": texts, \"labels\": labels})\n",
    "\n",
    "for filename in [train_full, train_dd, test_full, test_dd, dev_full, dev_dd]:\n",
    "    try:\n",
    "        _ = parse_fasttext_file(filename)\n",
    "    except Exception as e:\n",
    "        raise e\n",
    "\n",
    "\n",
    "def train_model(train_df, NUM_EPOCHS=30):\n",
    "    from simpletransformers.classification import ClassificationModel\n",
    "    model_args = {\n",
    "        \"num_train_epochs\": NUM_EPOCHS,\n",
    "        \"learning_rate\": 1e-5,\n",
    "        \"overwrite_output_dir\": True,\n",
    "        \"train_batch_size\": 32,\n",
    "        \"no_save\": True,\n",
    "        \"no_cache\": True,\n",
    "        \"overwrite_output_dir\": True,\n",
    "        \"save_steps\": -1,\n",
    "        \"max_seq_length\": 512,\n",
    "        \"silent\": False\n",
    "    }\n",
    "\n",
    "    model = ClassificationModel(\n",
    "        \"camembert\", \"EMBEDDIA/sloberta\",\n",
    "        num_labels = 21,\n",
    "        use_cuda = True,\n",
    "        args = model_args\n",
    "    )\n",
    "    model.train_model(train_df)\n",
    "    return model\n",
    "\n",
    "def eval_model(test_df):\n",
    "    y_true_enc = test_df.labels\n",
    "    y_pred_enc = model.predict(test_df.text.tolist())[0]\n",
    "\n",
    "    y_true = [NUM_TO_STR[i] for i in y_true_enc]\n",
    "    y_pred = [NUM_TO_STR[i] for i in y_pred_enc]\n",
    "\n",
    "    microF1 = f1_score(y_true, y_pred, labels=train_labels, average =\"micro\")\n",
    "    macroF1 = f1_score(y_true, y_pred, labels=train_labels, average =\"macro\")\n",
    "\n",
    "    return {\"microF1\": microF1, \n",
    "            \"macroF1\": macroF1,\n",
    "            \"y_true\": y_true,\n",
    "            \"y_pred\": y_pred}\n",
    "\n",
    "results = list()\n",
    "\n",
    "train_full_df = parse_fasttext_file(train_full)\n",
    "test_full_df = parse_fasttext_file(test_full)\n",
    "dev_full_df = parse_fasttext_file(dev_full)\n",
    "\n",
    "dev_dd_df = parse_fasttext_file(dev_dd)\n",
    "test_dd_df = parse_fasttext_file(test_dd)\n",
    "train_dd_df = parse_fasttext_file(train_dd)\n",
    "\n",
    "# First experiment: train on full, eval on all available \n",
    "for i in range(5):\n",
    "    print(results)\n",
    "    model = train_model(train_full_df)\n",
    "    rundict = eval_model(test_full_df)\n",
    "    rundict[\"train\"] = \"full\"\n",
    "    rundict[\"eval\"] = \"test_full\"\n",
    "    results.append(rundict)\n",
    "\n",
    "    rundict = eval_model(dev_full_df)\n",
    "    undict[\"train\"] = \"full\"\n",
    "    rundict[\"eval\"] = \"dev_full\"\n",
    "    results.append(rundict)\n",
    "\n",
    "    rundict = eval_model(dev_dd_df)\n",
    "    undict[\"train\"] = \"full\"\n",
    "    rundict[\"eval\"] = \"dev_dd\"\n",
    "    results.append(rundict)\n",
    "\n",
    "    rundict = eval_model(test_dd_df)\n",
    "    rundict[\"train\"] = \"full\"\n",
    "    rundict[\"eval\"] = \"test_dd\"\n",
    "    results.append(rundict)\n",
    "# Second experiment: train on dedup, eval on all available \n",
    "for i in range(5):\n",
    "    print(results)\n",
    "    model = train_model(train_dd_df)\n",
    "    rundict = eval_model(test_full_df)\n",
    "    rundict[\"train\"] = \"dd\"\n",
    "    rundict[\"eval\"] = \"test_full\"\n",
    "    results.append(rundict)\n",
    "\n",
    "    rundict = eval_model(dev_full_df)\n",
    "    undict[\"train\"] = \"dd\"\n",
    "    rundict[\"eval\"] = \"dev_full\"\n",
    "    results.append(rundict)\n",
    "\n",
    "    rundict = eval_model(dev_dd_df)\n",
    "    undict[\"train\"] = \"dd\"\n",
    "    rundict[\"eval\"] = \"dev_dd\"\n",
    "    results.append(rundict)\n",
    "\n",
    "    rundict = eval_model(test_dd_df)\n",
    "    rundict[\"train\"] = \"dd\"\n",
    "    rundict[\"eval\"] = \"test_dd\"\n",
    "    results.append(rundict)"
   ]
  },
  {
   "cell_type": "code",
   "execution_count": null,
   "metadata": {},
   "outputs": [],
   "source": []
  },
  {
   "cell_type": "code",
   "execution_count": null,
   "metadata": {},
   "outputs": [],
   "source": []
  }
 ],
 "metadata": {
  "interpreter": {
   "hash": "7f6f5766036ee03d059e365a942add07f79c17033585e9357ee8157d52fe6bb9"
  },
  "kernelspec": {
   "display_name": "Python 3.8.3 64-bit ('base': conda)",
   "name": "python3"
  },
  "language_info": {
   "codemirror_mode": {
    "name": "ipython",
    "version": 3
   },
   "file_extension": ".py",
   "mimetype": "text/x-python",
   "name": "python",
   "nbconvert_exporter": "python",
   "pygments_lexer": "ipython3",
   "version": "3.8.3"
  },
  "orig_nbformat": 4
 },
 "nbformat": 4,
 "nbformat_minor": 2
}
