{
 "cells": [
  {
   "cell_type": "markdown",
   "metadata": {},
   "source": [
    "This is a duplicate of notebook `1_data_preparation`, that aims to stratify the splits also in the `primary` field."
   ]
  },
  {
   "cell_type": "code",
   "execution_count": 54,
   "metadata": {},
   "outputs": [],
   "source": [
    "import json\n",
    "\n",
    "dataset_path = \"/home/peterr/macocu/task5_webgenres/data/original/dataset/dataset.json\"\n",
    "\n",
    "with open(dataset_path, \"r\") as f:\n",
    "    dataset = json.load(f)\n"
   ]
  },
  {
   "cell_type": "code",
   "execution_count": 55,
   "metadata": {},
   "outputs": [
    {
     "data": {
      "text/plain": [
       "1002"
      ]
     },
     "execution_count": 55,
     "metadata": {},
     "output_type": "execute_result"
    }
   ],
   "source": [
    "len(dataset)"
   ]
  },
  {
   "cell_type": "markdown",
   "metadata": {},
   "source": [
    "# Downsampling rare labels\n",
    "\n",
    "Rarely occuring primary and secondary labels will be changed as per `Dictionaries_for_genre_mapping.py`:"
   ]
  },
  {
   "cell_type": "code",
   "execution_count": 56,
   "metadata": {},
   "outputs": [],
   "source": [
    "# First step - categories with less than 5 examples are merged with other categories:\n",
    "first = {\"Script/Drama\":\"Other\", \"Lyrical\":\"Other\",\"FAQ\":\"Other\"}\n",
    "\n",
    "# Second step - categories (marked by the arrow in the hierarchy figure) are merged with similar categories:\n",
    "# second = {\"Recipe\":\"Instruction\", \"Research Article\":\"Information/Explanation\", \"Review\":\"Opinion/Argumentation\", \"Promotion of Services\":\"Promotion\", \"Promotion of a Product\":\"Promotion\", \"Invitation\":\"Promotion\"}\n",
    "second = dict()"
   ]
  },
  {
   "cell_type": "code",
   "execution_count": 57,
   "metadata": {},
   "outputs": [
    {
     "data": {
      "text/plain": [
       "8"
      ]
     },
     "execution_count": 57,
     "metadata": {},
     "output_type": "execute_result"
    }
   ],
   "source": [
    "change_counter = 0\n",
    "for i, document in enumerate(dataset):\n",
    "    primary = document[\"primary\"]\n",
    "    secondary = document[\"secondary\"]\n",
    "\n",
    "    if primary in first.keys():\n",
    "        #print(f\"Changing primary from {primary} to {first[primary]}\")\n",
    "        document[\"primary\"] = first[primary]\n",
    "        change_counter += 1\n",
    "        \n",
    "    if secondary in first.keys():\n",
    "        #print(f\"Changing secondary from {secondary} to {first[secondary]}\")\n",
    "        document[\"secondary\"] = first[secondary]\n",
    "        change_counter += 1\n",
    "\n",
    "    if primary in second.keys():\n",
    "        #print(f\"Changing primary from {primary} to {second[primary]}\")\n",
    "        document[\"primary\"] = second[primary]\n",
    "        change_counter += 1\n",
    "\n",
    "    if secondary in second.keys():\n",
    "        #print(f\"Changing secondary from {secondary} to {second[secondary]}\")\n",
    "        document[\"secondary\"] = second[secondary]\n",
    "        change_counter += 1\n",
    "\n",
    "    dataset[i] = document\n",
    "change_counter"
   ]
  },
  {
   "cell_type": "markdown",
   "metadata": {},
   "source": [
    "In total 8 changes were made.\n",
    "\n",
    "Next: domains will be extracted from urls and saved in the dataset."
   ]
  },
  {
   "cell_type": "code",
   "execution_count": 58,
   "metadata": {},
   "outputs": [],
   "source": [
    "import parse\n",
    "\n",
    "pattern = \"{protocol}://{domain}/{rest}\"\n",
    "p = parse.compile(pattern)\n",
    "\n",
    "modified_pattern = \"{protocol}://{domain}/\"\n",
    "mp = parse.compile(modified_pattern)\n",
    "for document in dataset:\n",
    "    parse_result = p.parse(document[\"url\"])\n",
    "    try:\n",
    "        document[\"domain\"] = parse_result[\"domain\"]\n",
    "    except TypeError:\n",
    "        parse_result = mp.parse(document[\"url\"])\n",
    "        document[\"domain\"] = parse_result[\"domain\"]\n"
   ]
  },
  {
   "cell_type": "markdown",
   "metadata": {},
   "source": [
    "Let's inspect the first element to be sure that the documents have been modified correctly:"
   ]
  },
  {
   "cell_type": "code",
   "execution_count": 59,
   "metadata": {},
   "outputs": [
    {
     "data": {
      "text/plain": [
       "{'id': '3949',\n",
       " 'url': 'http://www.pomurje.si/aktualno/sport/zimska-liga-malega-nogometa/',\n",
       " 'crawled': '2014',\n",
       " 'primary': 'News/Reporting',\n",
       " 'secondary': '',\n",
       " 'tertiary': '',\n",
       " 'hard': False,\n",
       " 'paragraphs': [{'text': 'Šport', 'duplicate': False, 'keep': True},\n",
       "  {'text': 'Zimska liga malega nogometa sobota, 12.02.2011',\n",
       "   'duplicate': False,\n",
       "   'keep': True},\n",
       "  {'text': 'avtor: Tonček Gider', 'duplicate': False, 'keep': True},\n",
       "  {'text': \"V 7. krogu zimske lige v malem nogometu v Križevcih pri Ljutomeru je v prvi ligi vodilni 100 plus iz Križevec izgubil s tretjo ekipo na lestvici Rock'n roll iz Križevec z rezultatom 1:2, druga na lestvici Top Finedika iz Križevec je bila poražena z ekipo Bar Milene iz Ključarovec z rezultatom 7:8. V drugi križevski ligi je vodilni Cafe del Mar iz Vučje vasi premagal Montažo Vrbnjak iz Stare Nove vasi z rezultatom 3:2.\",\n",
       "   'duplicate': False,\n",
       "   'keep': True},\n",
       "  {'text': 'oglasno sporočilo', 'duplicate': False, 'keep': True},\n",
       "  {'text': 'Ocena', 'duplicate': False, 'keep': True},\n",
       "  {'text': 'Komentiraj Za komentiranje ali ocenjevanje moraš biti registriran in prijavljen uporabnik. Registriraj se!',\n",
       "   'duplicate': True,\n",
       "   'keep': False}],\n",
       " 'domain': 'www.pomurje.si'}"
      ]
     },
     "execution_count": 59,
     "metadata": {},
     "output_type": "execute_result"
    }
   ],
   "source": [
    "dataset[0]"
   ]
  },
  {
   "cell_type": "markdown",
   "metadata": {},
   "source": [
    "# Transforming the dataset in tabular form"
   ]
  },
  {
   "cell_type": "code",
   "execution_count": 60,
   "metadata": {},
   "outputs": [
    {
     "data": {
      "text/plain": [
       "dict_keys(['id', 'url', 'crawled', 'primary', 'secondary', 'tertiary', 'hard', 'paragraphs', 'domain'])"
      ]
     },
     "execution_count": 60,
     "metadata": {},
     "output_type": "execute_result"
    }
   ],
   "source": [
    "fields = dataset[0].keys()\n",
    "fields"
   ]
  },
  {
   "cell_type": "code",
   "execution_count": 61,
   "metadata": {},
   "outputs": [],
   "source": [
    "tabular_dataset = dict()\n",
    "for field in fields:\n",
    "    tabular_dataset[field] = [item[field] for item in dataset]\n",
    "tabular_dataset[\"stratum\"] = [item[\"primary\"] + item[\"crawled\"] for item in dataset]"
   ]
  },
  {
   "cell_type": "code",
   "execution_count": 62,
   "metadata": {},
   "outputs": [
    {
     "data": {
      "text/html": [
       "<div>\n",
       "<style scoped>\n",
       "    .dataframe tbody tr th:only-of-type {\n",
       "        vertical-align: middle;\n",
       "    }\n",
       "\n",
       "    .dataframe tbody tr th {\n",
       "        vertical-align: top;\n",
       "    }\n",
       "\n",
       "    .dataframe thead th {\n",
       "        text-align: right;\n",
       "    }\n",
       "</style>\n",
       "<table border=\"1\" class=\"dataframe\">\n",
       "  <thead>\n",
       "    <tr style=\"text-align: right;\">\n",
       "      <th></th>\n",
       "      <th>id</th>\n",
       "      <th>url</th>\n",
       "      <th>crawled</th>\n",
       "      <th>primary</th>\n",
       "      <th>secondary</th>\n",
       "      <th>tertiary</th>\n",
       "      <th>hard</th>\n",
       "      <th>paragraphs</th>\n",
       "      <th>domain</th>\n",
       "      <th>stratum</th>\n",
       "    </tr>\n",
       "  </thead>\n",
       "  <tbody>\n",
       "    <tr>\n",
       "      <th>0</th>\n",
       "      <td>3949</td>\n",
       "      <td>http://www.pomurje.si/aktualno/sport/zimska-li...</td>\n",
       "      <td>2014</td>\n",
       "      <td>News/Reporting</td>\n",
       "      <td></td>\n",
       "      <td></td>\n",
       "      <td>False</td>\n",
       "      <td>[{'text': 'Šport', 'duplicate': False, 'keep':...</td>\n",
       "      <td>www.pomurje.si</td>\n",
       "      <td>News/Reporting2014</td>\n",
       "    </tr>\n",
       "    <tr>\n",
       "      <th>1</th>\n",
       "      <td>3726</td>\n",
       "      <td>http://www.ss-sezana.si/sss/index.php?option=c...</td>\n",
       "      <td>2014</td>\n",
       "      <td>Information/Explanation</td>\n",
       "      <td></td>\n",
       "      <td></td>\n",
       "      <td>False</td>\n",
       "      <td>[{'text': 'JEDILNIK', 'duplicate': False, 'kee...</td>\n",
       "      <td>www.ss-sezana.si</td>\n",
       "      <td>Information/Explanation2014</td>\n",
       "    </tr>\n",
       "    <tr>\n",
       "      <th>2</th>\n",
       "      <td>5621</td>\n",
       "      <td>http://www.kamnik-starejsi.si/novice/144-sodel...</td>\n",
       "      <td>2014</td>\n",
       "      <td>Promotion of Services</td>\n",
       "      <td>Opinion/Argumentation</td>\n",
       "      <td>Information/Explanation</td>\n",
       "      <td>False</td>\n",
       "      <td>[{'text': 'Projekt INNOVAge in zavod Oreli', '...</td>\n",
       "      <td>www.kamnik-starejsi.si</td>\n",
       "      <td>Promotion of Services2014</td>\n",
       "    </tr>\n",
       "    <tr>\n",
       "      <th>3</th>\n",
       "      <td>3776</td>\n",
       "      <td>http://www.radiocelje.si/novica.php?id=13007&amp;a...</td>\n",
       "      <td>2014</td>\n",
       "      <td>News/Reporting</td>\n",
       "      <td></td>\n",
       "      <td></td>\n",
       "      <td>False</td>\n",
       "      <td>[{'text': 'V novembru, mesecu preprečevanja od...</td>\n",
       "      <td>www.radiocelje.si</td>\n",
       "      <td>News/Reporting2014</td>\n",
       "    </tr>\n",
       "    <tr>\n",
       "      <th>4</th>\n",
       "      <td>2102</td>\n",
       "      <td>http://www.mtv.si/novice/selena-gomez-ponudila...</td>\n",
       "      <td>2014</td>\n",
       "      <td>Opinionated News</td>\n",
       "      <td></td>\n",
       "      <td></td>\n",
       "      <td>False</td>\n",
       "      <td>[{'text': 'Selena Gomez ponudila v poslušanje ...</td>\n",
       "      <td>www.mtv.si</td>\n",
       "      <td>Opinionated News2014</td>\n",
       "    </tr>\n",
       "  </tbody>\n",
       "</table>\n",
       "</div>"
      ],
      "text/plain": [
       "     id                                                url crawled  \\\n",
       "0  3949  http://www.pomurje.si/aktualno/sport/zimska-li...    2014   \n",
       "1  3726  http://www.ss-sezana.si/sss/index.php?option=c...    2014   \n",
       "2  5621  http://www.kamnik-starejsi.si/novice/144-sodel...    2014   \n",
       "3  3776  http://www.radiocelje.si/novica.php?id=13007&a...    2014   \n",
       "4  2102  http://www.mtv.si/novice/selena-gomez-ponudila...    2014   \n",
       "\n",
       "                   primary              secondary                 tertiary  \\\n",
       "0           News/Reporting                                                   \n",
       "1  Information/Explanation                                                   \n",
       "2    Promotion of Services  Opinion/Argumentation  Information/Explanation   \n",
       "3           News/Reporting                                                   \n",
       "4         Opinionated News                                                   \n",
       "\n",
       "    hard                                         paragraphs  \\\n",
       "0  False  [{'text': 'Šport', 'duplicate': False, 'keep':...   \n",
       "1  False  [{'text': 'JEDILNIK', 'duplicate': False, 'kee...   \n",
       "2  False  [{'text': 'Projekt INNOVAge in zavod Oreli', '...   \n",
       "3  False  [{'text': 'V novembru, mesecu preprečevanja od...   \n",
       "4  False  [{'text': 'Selena Gomez ponudila v poslušanje ...   \n",
       "\n",
       "                   domain                      stratum  \n",
       "0          www.pomurje.si           News/Reporting2014  \n",
       "1        www.ss-sezana.si  Information/Explanation2014  \n",
       "2  www.kamnik-starejsi.si    Promotion of Services2014  \n",
       "3       www.radiocelje.si           News/Reporting2014  \n",
       "4              www.mtv.si         Opinionated News2014  "
      ]
     },
     "execution_count": 62,
     "metadata": {},
     "output_type": "execute_result"
    }
   ],
   "source": [
    "import pandas as pd\n",
    "\n",
    "df = pd.DataFrame(data=tabular_dataset)\n",
    "interim_dir = \"/home/peterr/macocu/task5_webgenres/data/interim\"\n",
    "df.to_csv(interim_dir+\"/tabular_2.csv\", index=False)\n",
    "df.head()"
   ]
  },
  {
   "cell_type": "code",
   "execution_count": 63,
   "metadata": {},
   "outputs": [
    {
     "data": {
      "text/plain": [
       "array(['News/Reporting2014', 'Information/Explanation2014',\n",
       "       'Promotion of Services2014', 'Opinionated News2014',\n",
       "       'Promotion of a Product2014', 'Invitation2014',\n",
       "       'Legal/Regulation2014', 'Forum2014', 'Opinion/Argumentation2014',\n",
       "       'Other2014', 'Announcement2014', 'Instruction2014',\n",
       "       'Research Article2014', 'List of Summaries/Excerpts2014',\n",
       "       'Correspondence2014', 'Promotion2014', 'Recipe2014', 'Review2014',\n",
       "       'Prose2014', 'Call2014', 'Interview2014',\n",
       "       'Promotion of a Product2021', 'Promotion2021',\n",
       "       'List of Summaries/Excerpts2021', 'Forum2021', 'Announcement2021',\n",
       "       'Instruction2021', 'Opinion/Argumentation2021', 'Invitation2021',\n",
       "       'News/Reporting2021', 'Other2021', 'Information/Explanation2021',\n",
       "       'Legal/Regulation2021', 'Promotion of Services2021', 'Call2021',\n",
       "       'Recipe2021', 'Opinionated News2021', 'Correspondence2021',\n",
       "       'Research Article2021', 'Review2021', 'Interview2021', 'Prose2021'],\n",
       "      dtype=object)"
      ]
     },
     "execution_count": 63,
     "metadata": {},
     "output_type": "execute_result"
    }
   ],
   "source": [
    "df.stratum.unique()"
   ]
  },
  {
   "cell_type": "code",
   "execution_count": 64,
   "metadata": {},
   "outputs": [
    {
     "name": "stdout",
     "output_type": "stream",
     "text": [
      "Unique domains:  721  out of  1002\n"
     ]
    }
   ],
   "source": [
    "nr_of_domains = df.domain.shape[0]\n",
    "nr_of_unique_domains = len(df.domain.unique())\n",
    "print(\"Unique domains: \", nr_of_unique_domains, \" out of \", nr_of_domains)"
   ]
  },
  {
   "cell_type": "code",
   "execution_count": 65,
   "metadata": {},
   "outputs": [],
   "source": [
    "df[\"domain_unique\"] = False\n",
    "for domain in df.domain.unique():\n",
    "    subset = df.loc[df.domain == domain,:]\n",
    "    if len(subset) == 1:\n",
    "        df.loc[df.domain == domain, \"domain_unique\"] = True"
   ]
  },
  {
   "cell_type": "code",
   "execution_count": 66,
   "metadata": {},
   "outputs": [],
   "source": [
    "from sklearn.model_selection import train_test_split\n",
    "\n",
    "train, devtest = train_test_split(df, test_size=0.2, stratify=df.stratum, random_state=42)"
   ]
  },
  {
   "cell_type": "code",
   "execution_count": 67,
   "metadata": {},
   "outputs": [
    {
     "data": {
      "image/png": "[encoded data removed]",
      "text/plain": [
       "<Figure size 432x288 with 1 Axes>"
      ]
     },
     "metadata": {
      "needs_background": "light"
     },
     "output_type": "display_data"
    }
   ],
   "source": [
    "import matplotlib.pyplot as plt\n",
    "plt.hist(df.stratum)\n",
    "plt.xticks(rotation=90)\n",
    "plt.show()"
   ]
  },
  {
   "cell_type": "code",
   "execution_count": 68,
   "metadata": {},
   "outputs": [
    {
     "data": {
      "text/plain": [
       "domain\n",
       "ars.rtvslo.si               3\n",
       "astronomija.zlahkoto.si     3\n",
       "bajta.si                    2\n",
       "bazar.coks.si               5\n",
       "bikebook.si                 2\n",
       "                           ..\n",
       "www.zurnal24.si            10\n",
       "www.zvezdni-prah.si         3\n",
       "www.zvvs.si                 2\n",
       "zasrce.si                   2\n",
       "zelisca-cvetka.si           2\n",
       "Name: id, Length: 165, dtype: int64"
      ]
     },
     "execution_count": 68,
     "metadata": {},
     "output_type": "execute_result"
    }
   ],
   "source": [
    "bydomain = df.groupby(\"domain\").count()[\"id\"]\n",
    "problematic_domains = bydomain[bydomain != 1]\n",
    "problematic_domains"
   ]
  },
  {
   "cell_type": "code",
   "execution_count": 69,
   "metadata": {},
   "outputs": [
    {
     "data": {
      "text/plain": [
       "446"
      ]
     },
     "execution_count": 69,
     "metadata": {},
     "output_type": "execute_result"
    }
   ],
   "source": [
    "problematic_domains.sum()"
   ]
  },
  {
   "cell_type": "code",
   "execution_count": 70,
   "metadata": {},
   "outputs": [
    {
     "name": "stdout",
     "output_type": "stream",
     "text": [
      "Domain bazar.coks.si found in both! Domain deloindom.delo.si found in both! Domain dne.enaa.com found in both! Domain ducan.ednevnik.si found in both! Domain epsihologija.si found in both! Domain govori.se found in both! Domain irena.blog.siol.net found in both! Domain jazkuham.si found in both! Domain joker.muzej.si found in both! Domain locutio.si found in both! Domain metinalista.si found in both! Domain mikec.si found in both! Domain ms.sta.si found in both! Domain nazdravje.si found in both! Domain pednevro.pedkl.si found in both! Domain publishwall.si found in both! Domain radio.ognjisce.si found in both! Domain ravne.blog.siol.net found in both! Domain realmadrid.si found in both! Domain regionalgoriska.si found in both! Domain salve.si found in both! Domain spletnik.si found in both! Domain user.spletnik.si found in both! Domain www.agencijanet.si found in both! Domain www.beauty-world.si found in both! Domain www.delo.si found in both! Domain www.delovno-pravo.si found in both! Domain www.dostop.si found in both! Domain www.erilo.si found in both! Domain www.flegis.si found in both! Domain www.geocacher.si found in both! Domain www.ibn.si found in both! Domain www.insolvinfo.si found in both! Domain www.instore.si found in both! Domain www.kranio.si found in both! Domain www.lekarnaljubljana.si found in both! Domain www.mladina.si found in both! Domain www.mobile.si found in both! Domain www.mojster.si found in both! Domain www.motosvet.com found in both! Domain www.narodnjak.si found in both! Domain www.novus.si found in both! Domain www.odbojka.si found in both! Domain www.oglasi.si found in both! Domain www.pisrs.si found in both! Domain www.playboy.si found in both! Domain www.publishwall.si found in both! Domain www.radiocelje.si found in both! Domain www.regionalobala.si found in both! Domain www.rocker.si found in both! Domain www.servis48.si found in both! Domain www.sloski.si found in both! Domain www.sodnapraksa.si found in both! Domain www.spomincica.si found in both! Domain www.starofservice.si found in both! Domain www.studentska-trgovina.si found in both! Domain www.studiocerne.si found in both! Domain www.suzana.si found in both! Domain www.trzican.si found in both! Domain www.up-rs.si found in both! Domain www.uradni-list.si found in both! Domain www.vadbenaklinika.si found in both! Domain www.velenje.si found in both! Domain www.viva.si found in both! Domain www.zavodviva.si found in both! Domain www.zdravstveniportal.si found in both! Domain www.zurnal24.si found in both! Domain zasrce.si found in both! "
     ]
    }
   ],
   "source": [
    "for i, domain in enumerate(problematic_domains.index):\n",
    "    if domain in train.domain.unique() and domain in devtest.domain.unique():\n",
    "        print(f\"Domain {domain} found in both!\", end=\" \")\n",
    "    else:\n",
    "        continue\n",
    "    if i%5 == 0:\n",
    "        indices_to_transfer_to_devtest = train.domain == domain\n",
    "        devtest = pd.concat([devtest, train[indices_to_transfer_to_devtest]], ignore_index=True)\n",
    "        train = train[~indices_to_transfer_to_devtest]\n",
    "    else:\n",
    "        indices_to_transfer_to_train = devtest.domain == domain\n",
    "        train = pd.concat([train, devtest[indices_to_transfer_to_train]], ignore_index=True)\n",
    "        devtest = devtest[~indices_to_transfer_to_train]\n",
    "    devtest.reset_index(drop=True, inplace=True)\n",
    "    train.reset_index(drop=True, inplace=True)\n",
    "    "
   ]
  },
  {
   "cell_type": "code",
   "execution_count": 71,
   "metadata": {},
   "outputs": [
    {
     "data": {
      "text/plain": [
       "(835, 167)"
      ]
     },
     "execution_count": 71,
     "metadata": {},
     "output_type": "execute_result"
    }
   ],
   "source": [
    "train.shape[0], devtest.shape[0]"
   ]
  },
  {
   "cell_type": "code",
   "execution_count": 72,
   "metadata": {},
   "outputs": [
    {
     "data": {
      "text/plain": [
       "0.8333333333333334"
      ]
     },
     "execution_count": 72,
     "metadata": {},
     "output_type": "execute_result"
    }
   ],
   "source": [
    "train.shape[0]/(train.shape[0]+devtest.shape[0])"
   ]
  },
  {
   "cell_type": "code",
   "execution_count": 73,
   "metadata": {},
   "outputs": [
    {
     "data": {
      "image/png": "[encoded data removed]",
      "text/plain": [
       "<Figure size 432x288 with 1 Axes>"
      ]
     },
     "metadata": {
      "needs_background": "light"
     },
     "output_type": "display_data"
    }
   ],
   "source": [
    "plt.hist(train.crawled, label=\"train dataset\", density=True, histtype=\"step\")\n",
    "plt.hist(devtest.crawled, label=\"devtest dataset\", density=True, histtype=\"step\")\n",
    "plt.legend(loc=\"center\")\n",
    "plt.title(\"Normed histogram of the datasets crawl dates\")\n",
    "plt.show()"
   ]
  },
  {
   "cell_type": "markdown",
   "metadata": {},
   "source": [
    "Ok, so this worked suprisingly ok. Let's again test that the data has not leaked into both splits:"
   ]
  },
  {
   "cell_type": "code",
   "execution_count": 74,
   "metadata": {},
   "outputs": [],
   "source": [
    "for i, domain in enumerate(problematic_domains.index):\n",
    "    if domain in train.domain.unique() and domain in devtest.domain.unique():\n",
    "        print(f\"Domain {domain} found in both!\")"
   ]
  },
  {
   "cell_type": "markdown",
   "metadata": {},
   "source": [
    "Notice how this produced no hits.\n",
    "\n",
    "![Good, good](http://www.quickmeme.com/img/5e/5eff1c377f48790ca75a9a9878660481eeb4fde0172a2ad49505dc15890486c8.jpg)\n",
    "\n",
    "Moving on, we still have to perform the same splitting on dev and test data:"
   ]
  },
  {
   "cell_type": "code",
   "execution_count": 75,
   "metadata": {},
   "outputs": [
    {
     "data": {
      "text/plain": [
       "domain\n",
       "dne.enaa.com                   3\n",
       "irena.blog.siol.net            2\n",
       "mikec.si                       3\n",
       "radio.ognjisce.si              3\n",
       "salve.si                       2\n",
       "www.avtomanija.si              2\n",
       "www.beauty-world.si            2\n",
       "www.delovno-pravo.si           2\n",
       "www.ehrana.si                  2\n",
       "www.etno-muzej.si              2\n",
       "www.joker.si                   2\n",
       "www.mic.si                     2\n",
       "www.narodnjak.si               3\n",
       "www.pisrs.si                   2\n",
       "www.potnik.si                  2\n",
       "www.radiocelje.si              2\n",
       "www.ringaraja.net              2\n",
       "www.sloski.si                  3\n",
       "www.studentska-trgovina.si     2\n",
       "www.up-rs.si                   3\n",
       "www.viva.si                    3\n",
       "www.zurnal24.si               10\n",
       "Name: id, dtype: int64"
      ]
     },
     "execution_count": 75,
     "metadata": {},
     "output_type": "execute_result"
    }
   ],
   "source": [
    "dev, test = train_test_split(devtest, test_size=0.5, stratify=devtest.crawled, random_state=42)\n",
    "\n",
    "bydomain = devtest.groupby(\"domain\").count()[\"id\"]\n",
    "problematic_domains = bydomain[bydomain != 1]\n",
    "problematic_domains"
   ]
  },
  {
   "cell_type": "code",
   "execution_count": 76,
   "metadata": {},
   "outputs": [
    {
     "name": "stdout",
     "output_type": "stream",
     "text": [
      "Domain irena.blog.siol.net found in both! Domain radio.ognjisce.si found in both! Domain www.delovno-pravo.si found in both! Domain www.ehrana.si found in both! Domain www.narodnjak.si found in both! Domain www.potnik.si found in both! Domain www.radiocelje.si found in both! Domain www.sloski.si found in both! Domain www.studentska-trgovina.si found in both! Domain www.up-rs.si found in both! Domain www.zurnal24.si found in both! "
     ]
    }
   ],
   "source": [
    "for i, domain in enumerate(problematic_domains.index):\n",
    "    if domain in test.domain.unique() and domain in dev.domain.unique():\n",
    "        print(f\"Domain {domain} found in both!\", end=\" \")\n",
    "    else:\n",
    "        continue\n",
    "    if i%2 != 0:\n",
    "        indices_to_transfer_to_dev = test.domain == domain\n",
    "        dev = pd.concat([dev, test[indices_to_transfer_to_dev]], ignore_index=True)\n",
    "        test = test[~indices_to_transfer_to_dev]\n",
    "    else:\n",
    "        indices_to_transfer_to_test = dev.domain == domain\n",
    "        test = pd.concat([test, dev[indices_to_transfer_to_test]], ignore_index=True)\n",
    "        dev = dev[~indices_to_transfer_to_test]\n",
    "    dev.reset_index(drop=True, inplace=True)\n",
    "    test.reset_index(drop=True, inplace=True)"
   ]
  },
  {
   "cell_type": "code",
   "execution_count": 77,
   "metadata": {},
   "outputs": [
    {
     "data": {
      "image/png": "[encoded data removed]",
      "text/plain": [
       "<Figure size 432x288 with 1 Axes>"
      ]
     },
     "metadata": {
      "needs_background": "light"
     },
     "output_type": "display_data"
    }
   ],
   "source": [
    "density = True\n",
    "\n",
    "plt.hist(train.crawled, label=\"train dataset\", density=density, histtype=\"step\")\n",
    "plt.hist(dev.crawled, label=\"dev dataset\", density=density, histtype=\"step\")\n",
    "plt.hist(test.crawled, label=\"test dataset\", density=density, histtype=\"step\")\n",
    "plt.legend(loc=\"center\")\n",
    "plt.title(\"Normed histogram of the datasets crawl dates\")\n",
    "plt.savefig(\"images/2b_crawled.png\")\n",
    "plt.show()"
   ]
  },
  {
   "cell_type": "code",
   "execution_count": 78,
   "metadata": {},
   "outputs": [],
   "source": [
    "bydomain = df.groupby(\"domain\").count()[\"id\"]\n",
    "problematic_domains = bydomain[bydomain != 1]\n",
    "\n",
    "for i, domain in enumerate(problematic_domains.index):\n",
    "    is_in_train = domain in train.domain.unique()\n",
    "    is_in_dev = domain in dev.domain.unique()\n",
    "    is_in_test = domain in test.domain.unique()\n",
    "    if sum([is_in_train, is_in_dev, is_in_test]) > 1:\n",
    "        print(f\"Domain {domain} found in more than one split!\")"
   ]
  },
  {
   "cell_type": "markdown",
   "metadata": {},
   "source": [
    "As this histogram and the lack of output from the last cell show, we successfully performed the stratified and leak-proof spilling!\n",
    "\n",
    "![](https://www.bestpuppy.com/assets/images/bestpuppy/Hooray_For_Play_Time.jpg)\n",
    "\n",
    "We can now save the data and use it later to perform whatever we wish.\n"
   ]
  },
  {
   "cell_type": "code",
   "execution_count": 79,
   "metadata": {},
   "outputs": [],
   "source": [
    "import os\n",
    "\n",
    "interim_dir = \"/home/peterr/macocu/task5_webgenres/data/interim\"\n",
    "\n",
    "train.to_csv(os.path.join(interim_dir, \"train_2b.csv\"), index=False)\n",
    "test.to_csv(os.path.join(interim_dir, \"test_2b.csv\"), index=False)\n",
    "dev.to_csv(os.path.join(interim_dir, \"dev_2b.csv\"), index=False)"
   ]
  },
  {
   "cell_type": "markdown",
   "metadata": {},
   "source": [
    "Let's check how the ratios of hardness and primary labels look like across the three splits:"
   ]
  },
  {
   "cell_type": "code",
   "execution_count": 80,
   "metadata": {},
   "outputs": [
    {
     "data": {
      "image/png": "[encoded data removed]",
      "text/plain": [
       "<Figure size 432x288 with 1 Axes>"
      ]
     },
     "metadata": {
      "needs_background": "light"
     },
     "output_type": "display_data"
    }
   ],
   "source": [
    "density = True\n",
    "\n",
    "plt.hist(train.hard.apply(lambda b: str(b)), label=\"train dataset\", density=density, histtype=\"step\")\n",
    "plt.hist(dev.hard.apply(lambda b: str(b)), label=\"dev dataset\", density=density, histtype=\"step\")\n",
    "plt.hist(test.hard.apply(lambda b: str(b)), label=\"test dataset\", density=density, histtype=\"step\")\n",
    "plt.legend(loc=\"center\")\n",
    "plt.title(\"Normed histogram of the datasets hardness\")\n",
    "plt.savefig(\"images/2b_hardness.png\")\n",
    "plt.show()"
   ]
  },
  {
   "cell_type": "code",
   "execution_count": 81,
   "metadata": {},
   "outputs": [
    {
     "data": {
      "image/png": "[encoded data removed]",
      "text/plain": [
       "<Figure size 432x288 with 1 Axes>"
      ]
     },
     "metadata": {
      "needs_background": "light"
     },
     "output_type": "display_data"
    }
   ],
   "source": [
    "density = True\n",
    "\n",
    "plt.hist(train.primary, label=\"train dataset\", density=density, histtype=\"step\")\n",
    "plt.hist(dev.primary, label=\"dev dataset\", density=density, histtype=\"step\")\n",
    "plt.hist(test.primary, label=\"test dataset\", density=density, histtype=\"step\")\n",
    "plt.legend(loc=\"center\")\n",
    "plt.title(\"Normed histogram of the datasets crawl dates\")\n",
    "plt.xticks(rotation=90)\n",
    "plt.tight_layout()\n",
    "plt.savefig(\"images/2b_primaries.png\")\n",
    "plt.show()"
   ]
  },
  {
   "cell_type": "code",
   "execution_count": 42,
   "metadata": {},
   "outputs": [
    {
     "data": {
      "text/plain": [
       "([0, 1, 2, 3, 4, 5, 6, 7, 8, 9, 10, 11, 12, 13, 14],\n",
       " <a list of 15 Text major ticklabel objects>)"
      ]
     },
     "execution_count": 42,
     "metadata": {},
     "output_type": "execute_result"
    },
    {
     "data": {
      "image/png": "[encoded data removed]",
      "text/plain": [
       "<Figure size 432x288 with 1 Axes>"
      ]
     },
     "metadata": {
      "needs_background": "light"
     },
     "output_type": "display_data"
    }
   ],
   "source": [
    "pd.plotting.hist_series(train.primary)\n",
    "plt.xticks(rotation=90)"
   ]
  },
  {
   "cell_type": "code",
   "execution_count": 48,
   "metadata": {},
   "outputs": [
    {
     "data": {
      "text/plain": [
       "(array([2., 0., 1., 0., 1., 0., 1., 0., 1., 1.]),\n",
       " array([0. , 0.5, 1. , 1.5, 2. , 2.5, 3. , 3.5, 4. , 4.5, 5. ]),\n",
       " <a list of 10 Patch objects>)"
      ]
     },
     "execution_count": 48,
     "metadata": {},
     "output_type": "execute_result"
    },
    {
     "data": {
      "image/png": "[encoded data removed]",
      "text/plain": [
       "<Figure size 432x288 with 1 Axes>"
      ]
     },
     "metadata": {
      "needs_background": "light"
     },
     "output_type": "display_data"
    }
   ],
   "source": [
    "plt.hist([\"a\",\"a\", \"b\", \"c\", \"d\", \"e\", \"f\"], align=\"mid\")"
   ]
  },
  {
   "cell_type": "code",
   "execution_count": null,
   "metadata": {},
   "outputs": [],
   "source": []
  }
 ],
 "metadata": {
  "interpreter": {
   "hash": "7f6f5766036ee03d059e365a942add07f79c17033585e9357ee8157d52fe6bb9"
  },
  "kernelspec": {
   "display_name": "Python 3.8.3 64-bit ('base': conda)",
   "name": "python3"
  },
  "language_info": {
   "codemirror_mode": {
    "name": "ipython",
    "version": 3
   },
   "file_extension": ".py",
   "mimetype": "text/x-python",
   "name": "python",
   "nbconvert_exporter": "python",
   "pygments_lexer": "ipython3",
   "version": "3.8.3"
  },
  "orig_nbformat": 4
 },
 "nbformat": 4,
 "nbformat_minor": 2
}
