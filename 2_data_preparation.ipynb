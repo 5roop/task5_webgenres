{
 "cells": [
  {
   "cell_type": "markdown",
   "metadata": {},
   "source": [
    "This notebook will prepare the data in fasttext format."
   ]
  },
  {
   "cell_type": "code",
   "execution_count": 1,
   "metadata": {},
   "outputs": [],
   "source": [
    "interim_dir = \"/home/peterr/macocu/task5_webgenres/data/interim\"\n",
    "\n",
    "import os\n",
    "import pandas as pd\n",
    "\n",
    "test = pd.read_csv(os.path.join(interim_dir, \"test_2c.csv\"))\n",
    "train = pd.read_csv(os.path.join(interim_dir, \"train_2c.csv\"))\n",
    "dev = pd.read_csv(os.path.join(interim_dir, \"dev_2c.csv\"))"
   ]
  },
  {
   "cell_type": "code",
   "execution_count": 2,
   "metadata": {},
   "outputs": [
    {
     "data": {
      "text/plain": [
       "array(['Promotion of a Product', 'Review', 'Opinion/Argumentation',\n",
       "       'Other', 'News/Reporting', 'Information/Explanation',\n",
       "       'Promotion of Services', 'Forum', 'Opinionated News', 'Invitation',\n",
       "       'List of Summaries/Excerpts', 'Instruction', 'Promotion', 'Call',\n",
       "       'Legal/Regulation', 'Announcement'], dtype=object)"
      ]
     },
     "execution_count": 2,
     "metadata": {},
     "output_type": "execute_result"
    }
   ],
   "source": [
    "test.primary.unique()"
   ]
  },
  {
   "cell_type": "markdown",
   "metadata": {},
   "source": [
    "For fasttext these labels won't do. Spaces will be replaced with underscores."
   ]
  },
  {
   "cell_type": "code",
   "execution_count": 3,
   "metadata": {},
   "outputs": [
    {
     "data": {
      "text/plain": [
       "array(['Promotion_of_a_Product', 'Review', 'Opinion/Argumentation',\n",
       "       'Other', 'News/Reporting', 'Information/Explanation',\n",
       "       'Promotion_of_Services', 'Forum', 'Opinionated_News', 'Invitation',\n",
       "       'List_of_Summaries/Excerpts', 'Instruction', 'Promotion', 'Call',\n",
       "       'Legal/Regulation', 'Announcement'], dtype=object)"
      ]
     },
     "execution_count": 3,
     "metadata": {},
     "output_type": "execute_result"
    }
   ],
   "source": [
    "for df in [test, train, dev]:\n",
    "    df[\"primary\"] = df.primary.str.replace(\" \", \"_\")\n",
    "    df[\"secondary\"] = df.secondary.str.replace(\" \", \"_\")\n",
    "test.primary.unique()"
   ]
  },
  {
   "cell_type": "markdown",
   "metadata": {},
   "source": [
    "# Data preparation for the first experiment\n",
    "\n",
    "For first experimen we want to prepare data with only primary labels. We need train, dev, and test data in two versions, all of it and a subset of it where keep == True. In expectation of forthcoming experiments I also included the logic for working on full set of labels with agreed upon weight system.\n",
    "\n",
    "Data will be read from dataframes and saved into delegated text files, which fasttext can read.\n",
    "\n",
    "<span style=\"color:red\">When secondary label is non-existant, I include the primary label again.</span> Is this OK?"
   ]
  },
  {
   "cell_type": "code",
   "execution_count": 57,
   "metadata": {},
   "outputs": [],
   "source": [
    "def parse_df(df, only_keep=False, only_primary=True, only_no_duplicates=False):\n",
    "    import ast\n",
    "    filecontent = \"\"\n",
    "    for primary, secondary, paragraphs in df.loc[:, [\"primary\", \"secondary\", \"paragraphs\"]].values:\n",
    "        paragraphs = ast.literal_eval(paragraphs)\n",
    "        if only_keep == True:\n",
    "            paragraphs = [item for item in paragraphs if item[\"keep\"]==True]\n",
    "        if only_no_duplicates == True:\n",
    "            paragraphs = [item for item in paragraphs if item[\"duplicate\"]==False]\n",
    "        text = \" <p/> \".join([i[\"text\"].replace(\"\\n\", \" \") for i in paragraphs])\n",
    "        prim_label = f\"__label__{primary}\"\n",
    "        sec_label =  f\"__label__{secondary if pd.isna(secondary)!= True else primary}\"\n",
    "        filecontent += f\"\"\"{prim_label} {text}\\n{prim_label} {text}\\n{prim_label if only_primary else sec_label} {text}\\n\"\"\"\n",
    "    return filecontent\n",
    "\n",
    "final_path = \"/home/peterr/macocu/task5_webgenres/data/final/fasttext1\"\n",
    "dfdict = dict(test=test, dev=dev, train=train)\n",
    "\n",
    "for duplicate in [True, False]:\n",
    "    for keep in [True, False]:\n",
    "        for only_primary in [True, False]:\n",
    "            for segment in [\"dev\", \"train\", \"test\"]:\n",
    "                filename = f\"{segment}_onlykeep_{keep}_onlyprimary_{only_primary}_dedup_{duplicate}.fasttext\"\n",
    "                df = dfdict[segment]\n",
    "                content = parse_df(df, only_keep = keep, only_primary=only_primary, only_no_duplicates=duplicate)\n",
    "\n",
    "                with open(os.path.join(final_path, filename), \"w\") as f:\n",
    "                    f.write(content)\n"
   ]
  },
  {
   "cell_type": "code",
   "execution_count": 8,
   "metadata": {},
   "outputs": [
    {
     "data": {
      "text/plain": [
       "\"[{'text': 'Dobavljivost', 'duplicate': False, 'keep': True}, {'text': 'Cena', 'duplicate': False, 'keep': True}, {'text': 'Cena', 'duplicate': False, 'keep': True}, {'text': '33,00 €', 'duplicate': False, 'keep': True}, {'text': 'Količina', 'duplicate': False, 'keep': True}, {'text': 'S kompresijsko vrečo Nova pakirano padalo zaseda manj prostora in je zaščiteno pred znojem, z bolj ploskim pakiranjem pa je prenašanje padala v nahrbtniku udobnejše. Vreča ima ventil, da lahko iz nje iztisnemo odvečni zrak.', 'duplicate': False, 'keep': True}, {'text': 'Podrobnosti', 'duplicate': False, 'keep': True}, {'text': '100% vodotesna, padalo varuje pred znojem in umazanijo', 'duplicate': False, 'keep': True}, {'text': 'Teža: ok. 120 g', 'duplicate': False, 'keep': True}, {'text': 'Prostornina: ok. 30 l', 'duplicate': False, 'keep': True}]\""
      ]
     },
     "execution_count": 8,
     "metadata": {},
     "output_type": "execute_result"
    }
   ],
   "source": [
    "test.paragraphs[0]"
   ]
  },
  {
   "cell_type": "code",
   "execution_count": null,
   "metadata": {},
   "outputs": [],
   "source": []
  }
 ],
 "metadata": {
  "interpreter": {
   "hash": "7f6f5766036ee03d059e365a942add07f79c17033585e9357ee8157d52fe6bb9"
  },
  "kernelspec": {
   "display_name": "Python 3.8.3 64-bit ('base': conda)",
   "name": "python3"
  },
  "language_info": {
   "codemirror_mode": {
    "name": "ipython",
    "version": 3
   },
   "file_extension": ".py",
   "mimetype": "text/x-python",
   "name": "python",
   "nbconvert_exporter": "python",
   "pygments_lexer": "ipython3",
   "version": "3.8.3"
  },
  "orig_nbformat": 4
 },
 "nbformat": 4,
 "nbformat_minor": 2
}
