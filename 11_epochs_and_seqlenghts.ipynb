{
 "cells": [
  {
   "cell_type": "code",
   "execution_count": 28,
   "metadata": {},
   "outputs": [
    {
     "name": "stderr",
     "output_type": "stream",
     "text": [
      "Some weights of the model checkpoint at EMBEDDIA/sloberta were not used when initializing CamembertForSequenceClassification: ['lm_head.bias', 'lm_head.dense.bias', 'lm_head.decoder.bias', 'lm_head.decoder.weight', 'lm_head.layer_norm.bias', 'lm_head.layer_norm.weight', 'lm_head.dense.weight']\n",
      "- This IS expected if you are initializing CamembertForSequenceClassification from the checkpoint of a model trained on another task or with another architecture (e.g. initializing a BertForSequenceClassification model from a BertForPreTraining model).\n",
      "- This IS NOT expected if you are initializing CamembertForSequenceClassification from the checkpoint of a model that you expect to be exactly identical (initializing a BertForSequenceClassification model from a BertForSequenceClassification model).\n",
      "Some weights of CamembertForSequenceClassification were not initialized from the model checkpoint at EMBEDDIA/sloberta and are newly initialized: ['classifier.out_proj.bias', 'roberta.pooler.dense.bias', 'classifier.dense.bias', 'roberta.pooler.dense.weight', 'classifier.out_proj.weight', 'classifier.dense.weight']\n",
      "You should probably TRAIN this model on a down-stream task to be able to use it for predictions and inference.\n",
      "/home/peterr/anaconda3/lib/python3.8/site-packages/simpletransformers/classification/classification_model.py:489: UserWarning: use_multiprocessing automatically disabled as camembert fails when using multiprocessing for feature conversion.\n",
      "  warnings.warn(\n",
      "/home/peterr/anaconda3/lib/python3.8/site-packages/simpletransformers/classification/classification_model.py:941: FutureWarning: Non-finite norm encountered in torch.nn.utils.clip_grad_norm_; continuing anyway. Note that the default behavior will change in a future release to error out if a non-finite total norm is encountered. At that point, setting error_if_nonfinite=false will be required to retain the old behavior.\n",
      "  torch.nn.utils.clip_grad_norm_(\n"
     ]
    },
    {
     "name": "stdout",
     "output_type": "stream",
     "text": [
      "[{'seq_length': 256, 'epochs': 5, 'microF1': 0.5674157303370787, 'macroF1': 0.2783113155293606, 'dedup': False}, {'seq_length': 512, 'epochs': 5, 'microF1': 0.5674157303370787, 'macroF1': 0.288623344643111, 'dedup': False}, {'seq_length': 256, 'epochs': 10, 'microF1': 0.6235955056179775, 'macroF1': 0.37425652339024196, 'dedup': False}, {'seq_length': 512, 'epochs': 10, 'microF1': 0.6179775280898876, 'macroF1': 0.38527240875066954, 'dedup': False}, {'seq_length': 256, 'epochs': 20, 'microF1': 0.6404494382022472, 'macroF1': 0.5059550790863706, 'dedup': False}, {'seq_length': 512, 'epochs': 20, 'microF1': 0.651685393258427, 'macroF1': 0.6187045443593892, 'dedup': False}, {'seq_length': 256, 'epochs': 30, 'microF1': 0.5955056179775281, 'macroF1': 0.4938982767131578, 'dedup': False}, {'seq_length': 512, 'epochs': 30, 'microF1': 0.6685393258426966, 'macroF1': 0.6340832307649885, 'dedup': False}, {'seq_length': 256, 'epochs': 50, 'microF1': 0.6179775280898876, 'macroF1': 0.5418552167704898, 'dedup': False}, {'seq_length': 512, 'epochs': 50, 'microF1': 0.6404494382022472, 'macroF1': 0.6002096680066665, 'dedup': False}, {'seq_length': 256, 'epochs': 70, 'microF1': 0.651685393258427, 'macroF1': 0.5961122297970485, 'dedup': False}, {'seq_length': 512, 'epochs': 70, 'microF1': 0.6797752808988764, 'macroF1': 0.6450310329192316, 'dedup': False}, {'seq_length': 256, 'epochs': 5, 'microF1': 0.6035502958579881, 'macroF1': 0.32769165856250004, 'dedup': True}, {'seq_length': 512, 'epochs': 5, 'microF1': 0.6153846153846154, 'macroF1': 0.3090550794632427, 'dedup': True}, {'seq_length': 256, 'epochs': 10, 'microF1': 0.6686390532544378, 'macroF1': 0.4167655823609181, 'dedup': True}, {'seq_length': 512, 'epochs': 10, 'microF1': 0.6627218934911243, 'macroF1': 0.4610292529745417, 'dedup': True}, {'seq_length': 256, 'epochs': 20, 'microF1': 0.6568047337278107, 'macroF1': 0.5062635385948797, 'dedup': True}, {'seq_length': 512, 'epochs': 20, 'microF1': 0.6804733727810651, 'macroF1': 0.5108756978635162, 'dedup': True}, {'seq_length': 256, 'epochs': 30, 'microF1': 0.6627218934911243, 'macroF1': 0.5389396704727715, 'dedup': True}, {'seq_length': 512, 'epochs': 30, 'microF1': 0.7041420118343196, 'macroF1': 0.570274358963473, 'dedup': True}, {'seq_length': 256, 'epochs': 50, 'microF1': 0.6331360946745562, 'macroF1': 0.4514622560647306, 'dedup': True}, {'seq_length': 512, 'epochs': 50, 'microF1': 0.6982248520710059, 'macroF1': 0.554488686277034, 'dedup': True}, {'seq_length': 256, 'epochs': 70, 'microF1': 0.6568047337278107, 'macroF1': 0.5664543865406367, 'dedup': True}, {'seq_length': 512, 'epochs': 70, 'microF1': 0.6804733727810651, 'macroF1': 0.5311580704024008, 'dedup': True}, {'seq_length': 256, 'epochs': 25, 'microF1': 0.6292134831460674, 'macroF1': 0.5470349820313087, 'dedup': False}]\n"
     ]
    },
    {
     "name": "stderr",
     "output_type": "stream",
     "text": [
      "Some weights of the model checkpoint at EMBEDDIA/sloberta were not used when initializing CamembertForSequenceClassification: ['lm_head.bias', 'lm_head.dense.bias', 'lm_head.decoder.bias', 'lm_head.decoder.weight', 'lm_head.layer_norm.bias', 'lm_head.layer_norm.weight', 'lm_head.dense.weight']\n",
      "- This IS expected if you are initializing CamembertForSequenceClassification from the checkpoint of a model trained on another task or with another architecture (e.g. initializing a BertForSequenceClassification model from a BertForPreTraining model).\n",
      "- This IS NOT expected if you are initializing CamembertForSequenceClassification from the checkpoint of a model that you expect to be exactly identical (initializing a BertForSequenceClassification model from a BertForSequenceClassification model).\n",
      "Some weights of CamembertForSequenceClassification were not initialized from the model checkpoint at EMBEDDIA/sloberta and are newly initialized: ['classifier.out_proj.bias', 'roberta.pooler.dense.bias', 'classifier.dense.bias', 'roberta.pooler.dense.weight', 'classifier.out_proj.weight', 'classifier.dense.weight']\n",
      "You should probably TRAIN this model on a down-stream task to be able to use it for predictions and inference.\n"
     ]
    },
    {
     "name": "stdout",
     "output_type": "stream",
     "text": [
      "[{'seq_length': 256, 'epochs': 5, 'microF1': 0.5674157303370787, 'macroF1': 0.2783113155293606, 'dedup': False}, {'seq_length': 512, 'epochs': 5, 'microF1': 0.5674157303370787, 'macroF1': 0.288623344643111, 'dedup': False}, {'seq_length': 256, 'epochs': 10, 'microF1': 0.6235955056179775, 'macroF1': 0.37425652339024196, 'dedup': False}, {'seq_length': 512, 'epochs': 10, 'microF1': 0.6179775280898876, 'macroF1': 0.38527240875066954, 'dedup': False}, {'seq_length': 256, 'epochs': 20, 'microF1': 0.6404494382022472, 'macroF1': 0.5059550790863706, 'dedup': False}, {'seq_length': 512, 'epochs': 20, 'microF1': 0.651685393258427, 'macroF1': 0.6187045443593892, 'dedup': False}, {'seq_length': 256, 'epochs': 30, 'microF1': 0.5955056179775281, 'macroF1': 0.4938982767131578, 'dedup': False}, {'seq_length': 512, 'epochs': 30, 'microF1': 0.6685393258426966, 'macroF1': 0.6340832307649885, 'dedup': False}, {'seq_length': 256, 'epochs': 50, 'microF1': 0.6179775280898876, 'macroF1': 0.5418552167704898, 'dedup': False}, {'seq_length': 512, 'epochs': 50, 'microF1': 0.6404494382022472, 'macroF1': 0.6002096680066665, 'dedup': False}, {'seq_length': 256, 'epochs': 70, 'microF1': 0.651685393258427, 'macroF1': 0.5961122297970485, 'dedup': False}, {'seq_length': 512, 'epochs': 70, 'microF1': 0.6797752808988764, 'macroF1': 0.6450310329192316, 'dedup': False}, {'seq_length': 256, 'epochs': 5, 'microF1': 0.6035502958579881, 'macroF1': 0.32769165856250004, 'dedup': True}, {'seq_length': 512, 'epochs': 5, 'microF1': 0.6153846153846154, 'macroF1': 0.3090550794632427, 'dedup': True}, {'seq_length': 256, 'epochs': 10, 'microF1': 0.6686390532544378, 'macroF1': 0.4167655823609181, 'dedup': True}, {'seq_length': 512, 'epochs': 10, 'microF1': 0.6627218934911243, 'macroF1': 0.4610292529745417, 'dedup': True}, {'seq_length': 256, 'epochs': 20, 'microF1': 0.6568047337278107, 'macroF1': 0.5062635385948797, 'dedup': True}, {'seq_length': 512, 'epochs': 20, 'microF1': 0.6804733727810651, 'macroF1': 0.5108756978635162, 'dedup': True}, {'seq_length': 256, 'epochs': 30, 'microF1': 0.6627218934911243, 'macroF1': 0.5389396704727715, 'dedup': True}, {'seq_length': 512, 'epochs': 30, 'microF1': 0.7041420118343196, 'macroF1': 0.570274358963473, 'dedup': True}, {'seq_length': 256, 'epochs': 50, 'microF1': 0.6331360946745562, 'macroF1': 0.4514622560647306, 'dedup': True}, {'seq_length': 512, 'epochs': 50, 'microF1': 0.6982248520710059, 'macroF1': 0.554488686277034, 'dedup': True}, {'seq_length': 256, 'epochs': 70, 'microF1': 0.6568047337278107, 'macroF1': 0.5664543865406367, 'dedup': True}, {'seq_length': 512, 'epochs': 70, 'microF1': 0.6804733727810651, 'macroF1': 0.5311580704024008, 'dedup': True}, {'seq_length': 256, 'epochs': 25, 'microF1': 0.6292134831460674, 'macroF1': 0.5470349820313087, 'dedup': False}, {'seq_length': 512, 'epochs': 25, 'microF1': 0.6292134831460674, 'macroF1': 0.6180901928963943, 'dedup': False}]\n"
     ]
    },
    {
     "name": "stderr",
     "output_type": "stream",
     "text": [
      "Some weights of the model checkpoint at EMBEDDIA/sloberta were not used when initializing CamembertForSequenceClassification: ['lm_head.bias', 'lm_head.dense.bias', 'lm_head.decoder.bias', 'lm_head.decoder.weight', 'lm_head.layer_norm.bias', 'lm_head.layer_norm.weight', 'lm_head.dense.weight']\n",
      "- This IS expected if you are initializing CamembertForSequenceClassification from the checkpoint of a model trained on another task or with another architecture (e.g. initializing a BertForSequenceClassification model from a BertForPreTraining model).\n",
      "- This IS NOT expected if you are initializing CamembertForSequenceClassification from the checkpoint of a model that you expect to be exactly identical (initializing a BertForSequenceClassification model from a BertForSequenceClassification model).\n",
      "Some weights of CamembertForSequenceClassification were not initialized from the model checkpoint at EMBEDDIA/sloberta and are newly initialized: ['classifier.out_proj.bias', 'roberta.pooler.dense.bias', 'classifier.dense.bias', 'roberta.pooler.dense.weight', 'classifier.out_proj.weight', 'classifier.dense.weight']\n",
      "You should probably TRAIN this model on a down-stream task to be able to use it for predictions and inference.\n"
     ]
    },
    {
     "name": "stdout",
     "output_type": "stream",
     "text": [
      "[{'seq_length': 256, 'epochs': 5, 'microF1': 0.5674157303370787, 'macroF1': 0.2783113155293606, 'dedup': False}, {'seq_length': 512, 'epochs': 5, 'microF1': 0.5674157303370787, 'macroF1': 0.288623344643111, 'dedup': False}, {'seq_length': 256, 'epochs': 10, 'microF1': 0.6235955056179775, 'macroF1': 0.37425652339024196, 'dedup': False}, {'seq_length': 512, 'epochs': 10, 'microF1': 0.6179775280898876, 'macroF1': 0.38527240875066954, 'dedup': False}, {'seq_length': 256, 'epochs': 20, 'microF1': 0.6404494382022472, 'macroF1': 0.5059550790863706, 'dedup': False}, {'seq_length': 512, 'epochs': 20, 'microF1': 0.651685393258427, 'macroF1': 0.6187045443593892, 'dedup': False}, {'seq_length': 256, 'epochs': 30, 'microF1': 0.5955056179775281, 'macroF1': 0.4938982767131578, 'dedup': False}, {'seq_length': 512, 'epochs': 30, 'microF1': 0.6685393258426966, 'macroF1': 0.6340832307649885, 'dedup': False}, {'seq_length': 256, 'epochs': 50, 'microF1': 0.6179775280898876, 'macroF1': 0.5418552167704898, 'dedup': False}, {'seq_length': 512, 'epochs': 50, 'microF1': 0.6404494382022472, 'macroF1': 0.6002096680066665, 'dedup': False}, {'seq_length': 256, 'epochs': 70, 'microF1': 0.651685393258427, 'macroF1': 0.5961122297970485, 'dedup': False}, {'seq_length': 512, 'epochs': 70, 'microF1': 0.6797752808988764, 'macroF1': 0.6450310329192316, 'dedup': False}, {'seq_length': 256, 'epochs': 5, 'microF1': 0.6035502958579881, 'macroF1': 0.32769165856250004, 'dedup': True}, {'seq_length': 512, 'epochs': 5, 'microF1': 0.6153846153846154, 'macroF1': 0.3090550794632427, 'dedup': True}, {'seq_length': 256, 'epochs': 10, 'microF1': 0.6686390532544378, 'macroF1': 0.4167655823609181, 'dedup': True}, {'seq_length': 512, 'epochs': 10, 'microF1': 0.6627218934911243, 'macroF1': 0.4610292529745417, 'dedup': True}, {'seq_length': 256, 'epochs': 20, 'microF1': 0.6568047337278107, 'macroF1': 0.5062635385948797, 'dedup': True}, {'seq_length': 512, 'epochs': 20, 'microF1': 0.6804733727810651, 'macroF1': 0.5108756978635162, 'dedup': True}, {'seq_length': 256, 'epochs': 30, 'microF1': 0.6627218934911243, 'macroF1': 0.5389396704727715, 'dedup': True}, {'seq_length': 512, 'epochs': 30, 'microF1': 0.7041420118343196, 'macroF1': 0.570274358963473, 'dedup': True}, {'seq_length': 256, 'epochs': 50, 'microF1': 0.6331360946745562, 'macroF1': 0.4514622560647306, 'dedup': True}, {'seq_length': 512, 'epochs': 50, 'microF1': 0.6982248520710059, 'macroF1': 0.554488686277034, 'dedup': True}, {'seq_length': 256, 'epochs': 70, 'microF1': 0.6568047337278107, 'macroF1': 0.5664543865406367, 'dedup': True}, {'seq_length': 512, 'epochs': 70, 'microF1': 0.6804733727810651, 'macroF1': 0.5311580704024008, 'dedup': True}, {'seq_length': 256, 'epochs': 25, 'microF1': 0.6292134831460674, 'macroF1': 0.5470349820313087, 'dedup': False}, {'seq_length': 512, 'epochs': 25, 'microF1': 0.6292134831460674, 'macroF1': 0.6180901928963943, 'dedup': False}, {'seq_length': 256, 'epochs': 35, 'microF1': 0.6123595505617978, 'macroF1': 0.5095131984615814, 'dedup': False}]\n"
     ]
    },
    {
     "name": "stderr",
     "output_type": "stream",
     "text": [
      "Some weights of the model checkpoint at EMBEDDIA/sloberta were not used when initializing CamembertForSequenceClassification: ['lm_head.bias', 'lm_head.dense.bias', 'lm_head.decoder.bias', 'lm_head.decoder.weight', 'lm_head.layer_norm.bias', 'lm_head.layer_norm.weight', 'lm_head.dense.weight']\n",
      "- This IS expected if you are initializing CamembertForSequenceClassification from the checkpoint of a model trained on another task or with another architecture (e.g. initializing a BertForSequenceClassification model from a BertForPreTraining model).\n",
      "- This IS NOT expected if you are initializing CamembertForSequenceClassification from the checkpoint of a model that you expect to be exactly identical (initializing a BertForSequenceClassification model from a BertForSequenceClassification model).\n",
      "Some weights of CamembertForSequenceClassification were not initialized from the model checkpoint at EMBEDDIA/sloberta and are newly initialized: ['classifier.out_proj.bias', 'roberta.pooler.dense.bias', 'classifier.dense.bias', 'roberta.pooler.dense.weight', 'classifier.out_proj.weight', 'classifier.dense.weight']\n",
      "You should probably TRAIN this model on a down-stream task to be able to use it for predictions and inference.\n"
     ]
    },
    {
     "name": "stdout",
     "output_type": "stream",
     "text": [
      "[{'seq_length': 256, 'epochs': 5, 'microF1': 0.5674157303370787, 'macroF1': 0.2783113155293606, 'dedup': False}, {'seq_length': 512, 'epochs': 5, 'microF1': 0.5674157303370787, 'macroF1': 0.288623344643111, 'dedup': False}, {'seq_length': 256, 'epochs': 10, 'microF1': 0.6235955056179775, 'macroF1': 0.37425652339024196, 'dedup': False}, {'seq_length': 512, 'epochs': 10, 'microF1': 0.6179775280898876, 'macroF1': 0.38527240875066954, 'dedup': False}, {'seq_length': 256, 'epochs': 20, 'microF1': 0.6404494382022472, 'macroF1': 0.5059550790863706, 'dedup': False}, {'seq_length': 512, 'epochs': 20, 'microF1': 0.651685393258427, 'macroF1': 0.6187045443593892, 'dedup': False}, {'seq_length': 256, 'epochs': 30, 'microF1': 0.5955056179775281, 'macroF1': 0.4938982767131578, 'dedup': False}, {'seq_length': 512, 'epochs': 30, 'microF1': 0.6685393258426966, 'macroF1': 0.6340832307649885, 'dedup': False}, {'seq_length': 256, 'epochs': 50, 'microF1': 0.6179775280898876, 'macroF1': 0.5418552167704898, 'dedup': False}, {'seq_length': 512, 'epochs': 50, 'microF1': 0.6404494382022472, 'macroF1': 0.6002096680066665, 'dedup': False}, {'seq_length': 256, 'epochs': 70, 'microF1': 0.651685393258427, 'macroF1': 0.5961122297970485, 'dedup': False}, {'seq_length': 512, 'epochs': 70, 'microF1': 0.6797752808988764, 'macroF1': 0.6450310329192316, 'dedup': False}, {'seq_length': 256, 'epochs': 5, 'microF1': 0.6035502958579881, 'macroF1': 0.32769165856250004, 'dedup': True}, {'seq_length': 512, 'epochs': 5, 'microF1': 0.6153846153846154, 'macroF1': 0.3090550794632427, 'dedup': True}, {'seq_length': 256, 'epochs': 10, 'microF1': 0.6686390532544378, 'macroF1': 0.4167655823609181, 'dedup': True}, {'seq_length': 512, 'epochs': 10, 'microF1': 0.6627218934911243, 'macroF1': 0.4610292529745417, 'dedup': True}, {'seq_length': 256, 'epochs': 20, 'microF1': 0.6568047337278107, 'macroF1': 0.5062635385948797, 'dedup': True}, {'seq_length': 512, 'epochs': 20, 'microF1': 0.6804733727810651, 'macroF1': 0.5108756978635162, 'dedup': True}, {'seq_length': 256, 'epochs': 30, 'microF1': 0.6627218934911243, 'macroF1': 0.5389396704727715, 'dedup': True}, {'seq_length': 512, 'epochs': 30, 'microF1': 0.7041420118343196, 'macroF1': 0.570274358963473, 'dedup': True}, {'seq_length': 256, 'epochs': 50, 'microF1': 0.6331360946745562, 'macroF1': 0.4514622560647306, 'dedup': True}, {'seq_length': 512, 'epochs': 50, 'microF1': 0.6982248520710059, 'macroF1': 0.554488686277034, 'dedup': True}, {'seq_length': 256, 'epochs': 70, 'microF1': 0.6568047337278107, 'macroF1': 0.5664543865406367, 'dedup': True}, {'seq_length': 512, 'epochs': 70, 'microF1': 0.6804733727810651, 'macroF1': 0.5311580704024008, 'dedup': True}, {'seq_length': 256, 'epochs': 25, 'microF1': 0.6292134831460674, 'macroF1': 0.5470349820313087, 'dedup': False}, {'seq_length': 512, 'epochs': 25, 'microF1': 0.6292134831460674, 'macroF1': 0.6180901928963943, 'dedup': False}, {'seq_length': 256, 'epochs': 35, 'microF1': 0.6123595505617978, 'macroF1': 0.5095131984615814, 'dedup': False}, {'seq_length': 512, 'epochs': 35, 'microF1': 0.6629213483146067, 'macroF1': 0.6149288933109567, 'dedup': False}]\n"
     ]
    },
    {
     "name": "stderr",
     "output_type": "stream",
     "text": [
      "Some weights of the model checkpoint at EMBEDDIA/sloberta were not used when initializing CamembertForSequenceClassification: ['lm_head.bias', 'lm_head.dense.bias', 'lm_head.decoder.bias', 'lm_head.decoder.weight', 'lm_head.layer_norm.bias', 'lm_head.layer_norm.weight', 'lm_head.dense.weight']\n",
      "- This IS expected if you are initializing CamembertForSequenceClassification from the checkpoint of a model trained on another task or with another architecture (e.g. initializing a BertForSequenceClassification model from a BertForPreTraining model).\n",
      "- This IS NOT expected if you are initializing CamembertForSequenceClassification from the checkpoint of a model that you expect to be exactly identical (initializing a BertForSequenceClassification model from a BertForSequenceClassification model).\n",
      "Some weights of CamembertForSequenceClassification were not initialized from the model checkpoint at EMBEDDIA/sloberta and are newly initialized: ['classifier.out_proj.bias', 'roberta.pooler.dense.bias', 'classifier.dense.bias', 'roberta.pooler.dense.weight', 'classifier.out_proj.weight', 'classifier.dense.weight']\n",
      "You should probably TRAIN this model on a down-stream task to be able to use it for predictions and inference.\n"
     ]
    },
    {
     "name": "stdout",
     "output_type": "stream",
     "text": [
      "[{'seq_length': 256, 'epochs': 5, 'microF1': 0.5674157303370787, 'macroF1': 0.2783113155293606, 'dedup': False}, {'seq_length': 512, 'epochs': 5, 'microF1': 0.5674157303370787, 'macroF1': 0.288623344643111, 'dedup': False}, {'seq_length': 256, 'epochs': 10, 'microF1': 0.6235955056179775, 'macroF1': 0.37425652339024196, 'dedup': False}, {'seq_length': 512, 'epochs': 10, 'microF1': 0.6179775280898876, 'macroF1': 0.38527240875066954, 'dedup': False}, {'seq_length': 256, 'epochs': 20, 'microF1': 0.6404494382022472, 'macroF1': 0.5059550790863706, 'dedup': False}, {'seq_length': 512, 'epochs': 20, 'microF1': 0.651685393258427, 'macroF1': 0.6187045443593892, 'dedup': False}, {'seq_length': 256, 'epochs': 30, 'microF1': 0.5955056179775281, 'macroF1': 0.4938982767131578, 'dedup': False}, {'seq_length': 512, 'epochs': 30, 'microF1': 0.6685393258426966, 'macroF1': 0.6340832307649885, 'dedup': False}, {'seq_length': 256, 'epochs': 50, 'microF1': 0.6179775280898876, 'macroF1': 0.5418552167704898, 'dedup': False}, {'seq_length': 512, 'epochs': 50, 'microF1': 0.6404494382022472, 'macroF1': 0.6002096680066665, 'dedup': False}, {'seq_length': 256, 'epochs': 70, 'microF1': 0.651685393258427, 'macroF1': 0.5961122297970485, 'dedup': False}, {'seq_length': 512, 'epochs': 70, 'microF1': 0.6797752808988764, 'macroF1': 0.6450310329192316, 'dedup': False}, {'seq_length': 256, 'epochs': 5, 'microF1': 0.6035502958579881, 'macroF1': 0.32769165856250004, 'dedup': True}, {'seq_length': 512, 'epochs': 5, 'microF1': 0.6153846153846154, 'macroF1': 0.3090550794632427, 'dedup': True}, {'seq_length': 256, 'epochs': 10, 'microF1': 0.6686390532544378, 'macroF1': 0.4167655823609181, 'dedup': True}, {'seq_length': 512, 'epochs': 10, 'microF1': 0.6627218934911243, 'macroF1': 0.4610292529745417, 'dedup': True}, {'seq_length': 256, 'epochs': 20, 'microF1': 0.6568047337278107, 'macroF1': 0.5062635385948797, 'dedup': True}, {'seq_length': 512, 'epochs': 20, 'microF1': 0.6804733727810651, 'macroF1': 0.5108756978635162, 'dedup': True}, {'seq_length': 256, 'epochs': 30, 'microF1': 0.6627218934911243, 'macroF1': 0.5389396704727715, 'dedup': True}, {'seq_length': 512, 'epochs': 30, 'microF1': 0.7041420118343196, 'macroF1': 0.570274358963473, 'dedup': True}, {'seq_length': 256, 'epochs': 50, 'microF1': 0.6331360946745562, 'macroF1': 0.4514622560647306, 'dedup': True}, {'seq_length': 512, 'epochs': 50, 'microF1': 0.6982248520710059, 'macroF1': 0.554488686277034, 'dedup': True}, {'seq_length': 256, 'epochs': 70, 'microF1': 0.6568047337278107, 'macroF1': 0.5664543865406367, 'dedup': True}, {'seq_length': 512, 'epochs': 70, 'microF1': 0.6804733727810651, 'macroF1': 0.5311580704024008, 'dedup': True}, {'seq_length': 256, 'epochs': 25, 'microF1': 0.6292134831460674, 'macroF1': 0.5470349820313087, 'dedup': False}, {'seq_length': 512, 'epochs': 25, 'microF1': 0.6292134831460674, 'macroF1': 0.6180901928963943, 'dedup': False}, {'seq_length': 256, 'epochs': 35, 'microF1': 0.6123595505617978, 'macroF1': 0.5095131984615814, 'dedup': False}, {'seq_length': 512, 'epochs': 35, 'microF1': 0.6629213483146067, 'macroF1': 0.6149288933109567, 'dedup': False}, {'seq_length': 256, 'epochs': 40, 'microF1': 0.6235955056179775, 'macroF1': 0.5976482595597002, 'dedup': False}]\n"
     ]
    },
    {
     "name": "stderr",
     "output_type": "stream",
     "text": [
      "Some weights of the model checkpoint at EMBEDDIA/sloberta were not used when initializing CamembertForSequenceClassification: ['lm_head.bias', 'lm_head.dense.bias', 'lm_head.decoder.bias', 'lm_head.decoder.weight', 'lm_head.layer_norm.bias', 'lm_head.layer_norm.weight', 'lm_head.dense.weight']\n",
      "- This IS expected if you are initializing CamembertForSequenceClassification from the checkpoint of a model trained on another task or with another architecture (e.g. initializing a BertForSequenceClassification model from a BertForPreTraining model).\n",
      "- This IS NOT expected if you are initializing CamembertForSequenceClassification from the checkpoint of a model that you expect to be exactly identical (initializing a BertForSequenceClassification model from a BertForSequenceClassification model).\n",
      "Some weights of CamembertForSequenceClassification were not initialized from the model checkpoint at EMBEDDIA/sloberta and are newly initialized: ['classifier.out_proj.bias', 'roberta.pooler.dense.bias', 'classifier.dense.bias', 'roberta.pooler.dense.weight', 'classifier.out_proj.weight', 'classifier.dense.weight']\n",
      "You should probably TRAIN this model on a down-stream task to be able to use it for predictions and inference.\n"
     ]
    },
    {
     "name": "stdout",
     "output_type": "stream",
     "text": [
      "[{'seq_length': 256, 'epochs': 5, 'microF1': 0.5674157303370787, 'macroF1': 0.2783113155293606, 'dedup': False}, {'seq_length': 512, 'epochs': 5, 'microF1': 0.5674157303370787, 'macroF1': 0.288623344643111, 'dedup': False}, {'seq_length': 256, 'epochs': 10, 'microF1': 0.6235955056179775, 'macroF1': 0.37425652339024196, 'dedup': False}, {'seq_length': 512, 'epochs': 10, 'microF1': 0.6179775280898876, 'macroF1': 0.38527240875066954, 'dedup': False}, {'seq_length': 256, 'epochs': 20, 'microF1': 0.6404494382022472, 'macroF1': 0.5059550790863706, 'dedup': False}, {'seq_length': 512, 'epochs': 20, 'microF1': 0.651685393258427, 'macroF1': 0.6187045443593892, 'dedup': False}, {'seq_length': 256, 'epochs': 30, 'microF1': 0.5955056179775281, 'macroF1': 0.4938982767131578, 'dedup': False}, {'seq_length': 512, 'epochs': 30, 'microF1': 0.6685393258426966, 'macroF1': 0.6340832307649885, 'dedup': False}, {'seq_length': 256, 'epochs': 50, 'microF1': 0.6179775280898876, 'macroF1': 0.5418552167704898, 'dedup': False}, {'seq_length': 512, 'epochs': 50, 'microF1': 0.6404494382022472, 'macroF1': 0.6002096680066665, 'dedup': False}, {'seq_length': 256, 'epochs': 70, 'microF1': 0.651685393258427, 'macroF1': 0.5961122297970485, 'dedup': False}, {'seq_length': 512, 'epochs': 70, 'microF1': 0.6797752808988764, 'macroF1': 0.6450310329192316, 'dedup': False}, {'seq_length': 256, 'epochs': 5, 'microF1': 0.6035502958579881, 'macroF1': 0.32769165856250004, 'dedup': True}, {'seq_length': 512, 'epochs': 5, 'microF1': 0.6153846153846154, 'macroF1': 0.3090550794632427, 'dedup': True}, {'seq_length': 256, 'epochs': 10, 'microF1': 0.6686390532544378, 'macroF1': 0.4167655823609181, 'dedup': True}, {'seq_length': 512, 'epochs': 10, 'microF1': 0.6627218934911243, 'macroF1': 0.4610292529745417, 'dedup': True}, {'seq_length': 256, 'epochs': 20, 'microF1': 0.6568047337278107, 'macroF1': 0.5062635385948797, 'dedup': True}, {'seq_length': 512, 'epochs': 20, 'microF1': 0.6804733727810651, 'macroF1': 0.5108756978635162, 'dedup': True}, {'seq_length': 256, 'epochs': 30, 'microF1': 0.6627218934911243, 'macroF1': 0.5389396704727715, 'dedup': True}, {'seq_length': 512, 'epochs': 30, 'microF1': 0.7041420118343196, 'macroF1': 0.570274358963473, 'dedup': True}, {'seq_length': 256, 'epochs': 50, 'microF1': 0.6331360946745562, 'macroF1': 0.4514622560647306, 'dedup': True}, {'seq_length': 512, 'epochs': 50, 'microF1': 0.6982248520710059, 'macroF1': 0.554488686277034, 'dedup': True}, {'seq_length': 256, 'epochs': 70, 'microF1': 0.6568047337278107, 'macroF1': 0.5664543865406367, 'dedup': True}, {'seq_length': 512, 'epochs': 70, 'microF1': 0.6804733727810651, 'macroF1': 0.5311580704024008, 'dedup': True}, {'seq_length': 256, 'epochs': 25, 'microF1': 0.6292134831460674, 'macroF1': 0.5470349820313087, 'dedup': False}, {'seq_length': 512, 'epochs': 25, 'microF1': 0.6292134831460674, 'macroF1': 0.6180901928963943, 'dedup': False}, {'seq_length': 256, 'epochs': 35, 'microF1': 0.6123595505617978, 'macroF1': 0.5095131984615814, 'dedup': False}, {'seq_length': 512, 'epochs': 35, 'microF1': 0.6629213483146067, 'macroF1': 0.6149288933109567, 'dedup': False}, {'seq_length': 256, 'epochs': 40, 'microF1': 0.6235955056179775, 'macroF1': 0.5976482595597002, 'dedup': False}, {'seq_length': 512, 'epochs': 40, 'microF1': 0.6404494382022472, 'macroF1': 0.5797592026656065, 'dedup': False}]\n"
     ]
    },
    {
     "name": "stderr",
     "output_type": "stream",
     "text": [
      "Some weights of the model checkpoint at EMBEDDIA/sloberta were not used when initializing CamembertForSequenceClassification: ['lm_head.bias', 'lm_head.dense.bias', 'lm_head.decoder.bias', 'lm_head.decoder.weight', 'lm_head.layer_norm.bias', 'lm_head.layer_norm.weight', 'lm_head.dense.weight']\n",
      "- This IS expected if you are initializing CamembertForSequenceClassification from the checkpoint of a model trained on another task or with another architecture (e.g. initializing a BertForSequenceClassification model from a BertForPreTraining model).\n",
      "- This IS NOT expected if you are initializing CamembertForSequenceClassification from the checkpoint of a model that you expect to be exactly identical (initializing a BertForSequenceClassification model from a BertForSequenceClassification model).\n",
      "Some weights of CamembertForSequenceClassification were not initialized from the model checkpoint at EMBEDDIA/sloberta and are newly initialized: ['classifier.out_proj.bias', 'roberta.pooler.dense.bias', 'classifier.dense.bias', 'roberta.pooler.dense.weight', 'classifier.out_proj.weight', 'classifier.dense.weight']\n",
      "You should probably TRAIN this model on a down-stream task to be able to use it for predictions and inference.\n"
     ]
    },
    {
     "name": "stdout",
     "output_type": "stream",
     "text": [
      "[{'seq_length': 256, 'epochs': 5, 'microF1': 0.5674157303370787, 'macroF1': 0.2783113155293606, 'dedup': False}, {'seq_length': 512, 'epochs': 5, 'microF1': 0.5674157303370787, 'macroF1': 0.288623344643111, 'dedup': False}, {'seq_length': 256, 'epochs': 10, 'microF1': 0.6235955056179775, 'macroF1': 0.37425652339024196, 'dedup': False}, {'seq_length': 512, 'epochs': 10, 'microF1': 0.6179775280898876, 'macroF1': 0.38527240875066954, 'dedup': False}, {'seq_length': 256, 'epochs': 20, 'microF1': 0.6404494382022472, 'macroF1': 0.5059550790863706, 'dedup': False}, {'seq_length': 512, 'epochs': 20, 'microF1': 0.651685393258427, 'macroF1': 0.6187045443593892, 'dedup': False}, {'seq_length': 256, 'epochs': 30, 'microF1': 0.5955056179775281, 'macroF1': 0.4938982767131578, 'dedup': False}, {'seq_length': 512, 'epochs': 30, 'microF1': 0.6685393258426966, 'macroF1': 0.6340832307649885, 'dedup': False}, {'seq_length': 256, 'epochs': 50, 'microF1': 0.6179775280898876, 'macroF1': 0.5418552167704898, 'dedup': False}, {'seq_length': 512, 'epochs': 50, 'microF1': 0.6404494382022472, 'macroF1': 0.6002096680066665, 'dedup': False}, {'seq_length': 256, 'epochs': 70, 'microF1': 0.651685393258427, 'macroF1': 0.5961122297970485, 'dedup': False}, {'seq_length': 512, 'epochs': 70, 'microF1': 0.6797752808988764, 'macroF1': 0.6450310329192316, 'dedup': False}, {'seq_length': 256, 'epochs': 5, 'microF1': 0.6035502958579881, 'macroF1': 0.32769165856250004, 'dedup': True}, {'seq_length': 512, 'epochs': 5, 'microF1': 0.6153846153846154, 'macroF1': 0.3090550794632427, 'dedup': True}, {'seq_length': 256, 'epochs': 10, 'microF1': 0.6686390532544378, 'macroF1': 0.4167655823609181, 'dedup': True}, {'seq_length': 512, 'epochs': 10, 'microF1': 0.6627218934911243, 'macroF1': 0.4610292529745417, 'dedup': True}, {'seq_length': 256, 'epochs': 20, 'microF1': 0.6568047337278107, 'macroF1': 0.5062635385948797, 'dedup': True}, {'seq_length': 512, 'epochs': 20, 'microF1': 0.6804733727810651, 'macroF1': 0.5108756978635162, 'dedup': True}, {'seq_length': 256, 'epochs': 30, 'microF1': 0.6627218934911243, 'macroF1': 0.5389396704727715, 'dedup': True}, {'seq_length': 512, 'epochs': 30, 'microF1': 0.7041420118343196, 'macroF1': 0.570274358963473, 'dedup': True}, {'seq_length': 256, 'epochs': 50, 'microF1': 0.6331360946745562, 'macroF1': 0.4514622560647306, 'dedup': True}, {'seq_length': 512, 'epochs': 50, 'microF1': 0.6982248520710059, 'macroF1': 0.554488686277034, 'dedup': True}, {'seq_length': 256, 'epochs': 70, 'microF1': 0.6568047337278107, 'macroF1': 0.5664543865406367, 'dedup': True}, {'seq_length': 512, 'epochs': 70, 'microF1': 0.6804733727810651, 'macroF1': 0.5311580704024008, 'dedup': True}, {'seq_length': 256, 'epochs': 25, 'microF1': 0.6292134831460674, 'macroF1': 0.5470349820313087, 'dedup': False}, {'seq_length': 512, 'epochs': 25, 'microF1': 0.6292134831460674, 'macroF1': 0.6180901928963943, 'dedup': False}, {'seq_length': 256, 'epochs': 35, 'microF1': 0.6123595505617978, 'macroF1': 0.5095131984615814, 'dedup': False}, {'seq_length': 512, 'epochs': 35, 'microF1': 0.6629213483146067, 'macroF1': 0.6149288933109567, 'dedup': False}, {'seq_length': 256, 'epochs': 40, 'microF1': 0.6235955056179775, 'macroF1': 0.5976482595597002, 'dedup': False}, {'seq_length': 512, 'epochs': 40, 'microF1': 0.6404494382022472, 'macroF1': 0.5797592026656065, 'dedup': False}, {'seq_length': 256, 'epochs': 55, 'microF1': 0.6235955056179775, 'macroF1': 0.5622273920179531, 'dedup': False}]\n"
     ]
    },
    {
     "name": "stderr",
     "output_type": "stream",
     "text": [
      "Some weights of the model checkpoint at EMBEDDIA/sloberta were not used when initializing CamembertForSequenceClassification: ['lm_head.bias', 'lm_head.dense.bias', 'lm_head.decoder.bias', 'lm_head.decoder.weight', 'lm_head.layer_norm.bias', 'lm_head.layer_norm.weight', 'lm_head.dense.weight']\n",
      "- This IS expected if you are initializing CamembertForSequenceClassification from the checkpoint of a model trained on another task or with another architecture (e.g. initializing a BertForSequenceClassification model from a BertForPreTraining model).\n",
      "- This IS NOT expected if you are initializing CamembertForSequenceClassification from the checkpoint of a model that you expect to be exactly identical (initializing a BertForSequenceClassification model from a BertForSequenceClassification model).\n",
      "Some weights of CamembertForSequenceClassification were not initialized from the model checkpoint at EMBEDDIA/sloberta and are newly initialized: ['classifier.out_proj.bias', 'roberta.pooler.dense.bias', 'classifier.dense.bias', 'roberta.pooler.dense.weight', 'classifier.out_proj.weight', 'classifier.dense.weight']\n",
      "You should probably TRAIN this model on a down-stream task to be able to use it for predictions and inference.\n"
     ]
    },
    {
     "name": "stdout",
     "output_type": "stream",
     "text": [
      "[{'seq_length': 256, 'epochs': 5, 'microF1': 0.5674157303370787, 'macroF1': 0.2783113155293606, 'dedup': False}, {'seq_length': 512, 'epochs': 5, 'microF1': 0.5674157303370787, 'macroF1': 0.288623344643111, 'dedup': False}, {'seq_length': 256, 'epochs': 10, 'microF1': 0.6235955056179775, 'macroF1': 0.37425652339024196, 'dedup': False}, {'seq_length': 512, 'epochs': 10, 'microF1': 0.6179775280898876, 'macroF1': 0.38527240875066954, 'dedup': False}, {'seq_length': 256, 'epochs': 20, 'microF1': 0.6404494382022472, 'macroF1': 0.5059550790863706, 'dedup': False}, {'seq_length': 512, 'epochs': 20, 'microF1': 0.651685393258427, 'macroF1': 0.6187045443593892, 'dedup': False}, {'seq_length': 256, 'epochs': 30, 'microF1': 0.5955056179775281, 'macroF1': 0.4938982767131578, 'dedup': False}, {'seq_length': 512, 'epochs': 30, 'microF1': 0.6685393258426966, 'macroF1': 0.6340832307649885, 'dedup': False}, {'seq_length': 256, 'epochs': 50, 'microF1': 0.6179775280898876, 'macroF1': 0.5418552167704898, 'dedup': False}, {'seq_length': 512, 'epochs': 50, 'microF1': 0.6404494382022472, 'macroF1': 0.6002096680066665, 'dedup': False}, {'seq_length': 256, 'epochs': 70, 'microF1': 0.651685393258427, 'macroF1': 0.5961122297970485, 'dedup': False}, {'seq_length': 512, 'epochs': 70, 'microF1': 0.6797752808988764, 'macroF1': 0.6450310329192316, 'dedup': False}, {'seq_length': 256, 'epochs': 5, 'microF1': 0.6035502958579881, 'macroF1': 0.32769165856250004, 'dedup': True}, {'seq_length': 512, 'epochs': 5, 'microF1': 0.6153846153846154, 'macroF1': 0.3090550794632427, 'dedup': True}, {'seq_length': 256, 'epochs': 10, 'microF1': 0.6686390532544378, 'macroF1': 0.4167655823609181, 'dedup': True}, {'seq_length': 512, 'epochs': 10, 'microF1': 0.6627218934911243, 'macroF1': 0.4610292529745417, 'dedup': True}, {'seq_length': 256, 'epochs': 20, 'microF1': 0.6568047337278107, 'macroF1': 0.5062635385948797, 'dedup': True}, {'seq_length': 512, 'epochs': 20, 'microF1': 0.6804733727810651, 'macroF1': 0.5108756978635162, 'dedup': True}, {'seq_length': 256, 'epochs': 30, 'microF1': 0.6627218934911243, 'macroF1': 0.5389396704727715, 'dedup': True}, {'seq_length': 512, 'epochs': 30, 'microF1': 0.7041420118343196, 'macroF1': 0.570274358963473, 'dedup': True}, {'seq_length': 256, 'epochs': 50, 'microF1': 0.6331360946745562, 'macroF1': 0.4514622560647306, 'dedup': True}, {'seq_length': 512, 'epochs': 50, 'microF1': 0.6982248520710059, 'macroF1': 0.554488686277034, 'dedup': True}, {'seq_length': 256, 'epochs': 70, 'microF1': 0.6568047337278107, 'macroF1': 0.5664543865406367, 'dedup': True}, {'seq_length': 512, 'epochs': 70, 'microF1': 0.6804733727810651, 'macroF1': 0.5311580704024008, 'dedup': True}, {'seq_length': 256, 'epochs': 25, 'microF1': 0.6292134831460674, 'macroF1': 0.5470349820313087, 'dedup': False}, {'seq_length': 512, 'epochs': 25, 'microF1': 0.6292134831460674, 'macroF1': 0.6180901928963943, 'dedup': False}, {'seq_length': 256, 'epochs': 35, 'microF1': 0.6123595505617978, 'macroF1': 0.5095131984615814, 'dedup': False}, {'seq_length': 512, 'epochs': 35, 'microF1': 0.6629213483146067, 'macroF1': 0.6149288933109567, 'dedup': False}, {'seq_length': 256, 'epochs': 40, 'microF1': 0.6235955056179775, 'macroF1': 0.5976482595597002, 'dedup': False}, {'seq_length': 512, 'epochs': 40, 'microF1': 0.6404494382022472, 'macroF1': 0.5797592026656065, 'dedup': False}, {'seq_length': 256, 'epochs': 55, 'microF1': 0.6235955056179775, 'macroF1': 0.5622273920179531, 'dedup': False}, {'seq_length': 512, 'epochs': 55, 'microF1': 0.6629213483146067, 'macroF1': 0.6315740007368562, 'dedup': False}]\n"
     ]
    },
    {
     "name": "stderr",
     "output_type": "stream",
     "text": [
      "Some weights of the model checkpoint at EMBEDDIA/sloberta were not used when initializing CamembertForSequenceClassification: ['lm_head.bias', 'lm_head.dense.bias', 'lm_head.decoder.bias', 'lm_head.decoder.weight', 'lm_head.layer_norm.bias', 'lm_head.layer_norm.weight', 'lm_head.dense.weight']\n",
      "- This IS expected if you are initializing CamembertForSequenceClassification from the checkpoint of a model trained on another task or with another architecture (e.g. initializing a BertForSequenceClassification model from a BertForPreTraining model).\n",
      "- This IS NOT expected if you are initializing CamembertForSequenceClassification from the checkpoint of a model that you expect to be exactly identical (initializing a BertForSequenceClassification model from a BertForSequenceClassification model).\n",
      "Some weights of CamembertForSequenceClassification were not initialized from the model checkpoint at EMBEDDIA/sloberta and are newly initialized: ['classifier.out_proj.bias', 'roberta.pooler.dense.bias', 'classifier.dense.bias', 'roberta.pooler.dense.weight', 'classifier.out_proj.weight', 'classifier.dense.weight']\n",
      "You should probably TRAIN this model on a down-stream task to be able to use it for predictions and inference.\n"
     ]
    }
   ],
   "source": [
    "import os\n",
    "import parse\n",
    "import fasttext\n",
    "import numpy as np\n",
    "import pandas as pd\n",
    "from sklearn.metrics import f1_score\n",
    "import matplotlib.pyplot as plt\n",
    "datadir = \"/home/peterr/macocu/task5_webgenres/data/final/fasttext1\"\n",
    "\n",
    "dev_full = os.path.join(datadir, \"dev_onlykeep_False_onlyprimary_True_dedup_False.fasttext\")\n",
    "test_full = os.path.join(datadir, \"test_onlykeep_False_onlyprimary_True_dedup_False.fasttext\")\n",
    "train_full = os.path.join(datadir, \"train_onlykeep_False_onlyprimary_True_dedup_False.fasttext\")\n",
    "devtest_full = os.path.join(datadir, \"devtest_onlykeep_False_onlyprimary_True_dedup_False.fasttext\")\n",
    "\n",
    "dev_dd = os.path.join(datadir, \"dev_onlykeep_False_onlyprimary_True_dedup_True.fasttext\")\n",
    "test_dd = os.path.join(datadir, \"test_onlykeep_False_onlyprimary_True_dedup_True.fasttext\")\n",
    "train_dd = os.path.join(datadir, \"train_onlykeep_False_onlyprimary_True_dedup_True.fasttext\")\n",
    "devtest_dd = os.path.join(datadir, \"devtest_onlykeep_False_onlyprimary_True_dedup_True.fasttext\")\n",
    "\n",
    "\n",
    "train_labels = ['__label__Legal/Regulation',\n",
    " '__label__Opinionated_News',\n",
    " '__label__News/Reporting',\n",
    " '__label__Forum',\n",
    " '__label__Correspondence',\n",
    " '__label__Invitation',\n",
    " '__label__Instruction',\n",
    " '__label__Recipe',\n",
    " '__label__Opinion/Argumentation',\n",
    " '__label__Promotion_of_Services',\n",
    " '__label__Promotion',\n",
    " '__label__List_of_Summaries/Excerpts',\n",
    " '__label__Promotion_of_a_Product',\n",
    " '__label__Call',\n",
    " '__label__Review',\n",
    " '__label__Other',\n",
    " '__label__Information/Explanation',\n",
    " '__label__Interview',\n",
    " '__label__Prose',\n",
    " '__label__Research_Article',\n",
    " '__label__Announcement']\n",
    "\n",
    "STR_TO_NUM = {s: i for i, s in enumerate(train_labels)}\n",
    "NUM_TO_STR = {i: s for i, s in enumerate(train_labels)}\n",
    "\n",
    "\n",
    "def parse_fasttext_file(path: str, encode=True):\n",
    "    \"\"\"Reads fasttext formatted file and returns dataframe.\"\"\"\n",
    "    with open(path, \"r\") as f:\n",
    "        content = f.readlines()\n",
    "    pattern = \"{label} {text}\\n\"\n",
    "    p = parse.compile(pattern)\n",
    "\n",
    "    labels, texts = list(), list()\n",
    "    for line in content:\n",
    "        rez = p.parse(line)\n",
    "        if rez is not None:\n",
    "            labels.append(rez[\"label\"])\n",
    "            texts.append(rez[\"text\"])\n",
    "        else:\n",
    "            pass\n",
    "            #print(\"error parsing line \", line)\n",
    "    if encode:\n",
    "        labels = [STR_TO_NUM[i] for i in labels]\n",
    "    return pd.DataFrame(data={\"text\": texts, \"labels\": labels})\n",
    "\n",
    "for filename in [devtest_dd, devtest_full, train_dd, train_dd]:\n",
    "    try:\n",
    "        _ = parse_fasttext_file(filename)\n",
    "    except Exception as e:\n",
    "        raise e\n",
    "\n",
    "\n",
    "\n",
    "def train_and_evaluate(NUM_EPOCHS, SEQ_LENGTH, dedup=False):\n",
    "    from simpletransformers.classification import ClassificationModel\n",
    "    model_args = {\n",
    "        \"num_train_epochs\": NUM_EPOCHS,\n",
    "        \"learning_rate\": 1e-5,\n",
    "        \"overwrite_output_dir\": True,\n",
    "        \"train_batch_size\": 32,\n",
    "        \"no_save\": True,\n",
    "        \"no_cache\": True,\n",
    "        \"overwrite_output_dir\": True,\n",
    "        \"save_steps\": -1,\n",
    "        \"max_seq_length\": SEQ_LENGTH,\n",
    "        \"silent\": True\n",
    "    }\n",
    "\n",
    "    model = ClassificationModel(\n",
    "        \"camembert\", \"EMBEDDIA/sloberta\",\n",
    "        num_labels = 21,\n",
    "        use_cuda = True,\n",
    "        args = model_args\n",
    "    )\n",
    "\n",
    "    if dedup:\n",
    "        train_df = parse_fasttext_file(train_dd)\n",
    "        test_df = parse_fasttext_file(devtest_dd)\n",
    "    else:\n",
    "        train_df = parse_fasttext_file(train_full)\n",
    "        test_df = parse_fasttext_file(devtest_full)\n",
    "    model.train_model(train_df)\n",
    "    \n",
    "    y_true_enc = test_df.labels\n",
    "    y_pred_enc = model.predict(test_df.text.tolist())[0]\n",
    "\n",
    "    y_true = [NUM_TO_STR[i] for i in y_true_enc]\n",
    "    y_pred = [NUM_TO_STR[i] for i in y_pred_enc]\n",
    "\n",
    "    microF1 = f1_score(y_true, y_pred, labels=train_labels, average =\"micro\")\n",
    "    macroF1 = f1_score(y_true, y_pred, labels=train_labels, average =\"macro\")\n",
    "\n",
    "    return microF1, macroF1\n",
    "\n",
    "\n",
    "\n",
    "results = [{'seq_length': 256, 'epochs': 5, 'microF1': 0.5674157303370787, 'macroF1': 0.2783113155293606, 'dedup': False}, {'seq_length': 512, 'epochs': 5, 'microF1': 0.5674157303370787, 'macroF1': 0.288623344643111, 'dedup': False}, {'seq_length': 256, 'epochs': 10, 'microF1': 0.6235955056179775, 'macroF1': 0.37425652339024196, 'dedup': False}, {'seq_length': 512, 'epochs': 10, 'microF1': 0.6179775280898876, 'macroF1': 0.38527240875066954, 'dedup': False}, {'seq_length': 256, 'epochs': 20, 'microF1': 0.6404494382022472, 'macroF1': 0.5059550790863706, 'dedup': False}, {'seq_length': 512, 'epochs': 20, 'microF1': 0.651685393258427, 'macroF1': 0.6187045443593892, 'dedup': False}, {'seq_length': 256, 'epochs': 30, 'microF1': 0.5955056179775281, 'macroF1': 0.4938982767131578, 'dedup': False}, {'seq_length': 512, 'epochs': 30, 'microF1': 0.6685393258426966, 'macroF1': 0.6340832307649885, 'dedup': False}, {'seq_length': 256, 'epochs': 50, 'microF1': 0.6179775280898876, 'macroF1': 0.5418552167704898, 'dedup': False}, {'seq_length': 512, 'epochs': 50, 'microF1': 0.6404494382022472, 'macroF1': 0.6002096680066665, 'dedup': False}, {'seq_length': 256, 'epochs': 70, 'microF1': 0.651685393258427, 'macroF1': 0.5961122297970485, 'dedup': False}, {'seq_length': 512, 'epochs': 70, 'microF1': 0.6797752808988764, 'macroF1': 0.6450310329192316, 'dedup': False}, {'seq_length': 256, 'epochs': 5, 'microF1': 0.6035502958579881, 'macroF1': 0.32769165856250004, 'dedup': True}, {'seq_length': 512, 'epochs': 5, 'microF1': 0.6153846153846154, 'macroF1': 0.3090550794632427, 'dedup': True}, {'seq_length': 256, 'epochs': 10, 'microF1': 0.6686390532544378, 'macroF1': 0.4167655823609181, 'dedup': True}, {'seq_length': 512, 'epochs': 10, 'microF1': 0.6627218934911243, 'macroF1': 0.4610292529745417, 'dedup': True}, {'seq_length': 256, 'epochs': 20, 'microF1': 0.6568047337278107, 'macroF1': 0.5062635385948797, 'dedup': True}, {'seq_length': 512, 'epochs': 20, 'microF1': 0.6804733727810651, 'macroF1': 0.5108756978635162, 'dedup': True}, {'seq_length': 256, 'epochs': 30, 'microF1': 0.6627218934911243, 'macroF1': 0.5389396704727715, 'dedup': True}, {'seq_length': 512, 'epochs': 30, 'microF1': 0.7041420118343196, 'macroF1': 0.570274358963473, 'dedup': True}, {'seq_length': 256, 'epochs': 50, 'microF1': 0.6331360946745562, 'macroF1': 0.4514622560647306, 'dedup': True}, {'seq_length': 512, 'epochs': 50, 'microF1': 0.6982248520710059, 'macroF1': 0.554488686277034, 'dedup': True}, {'seq_length': 256, 'epochs': 70, 'microF1': 0.6568047337278107, 'macroF1': 0.5664543865406367, 'dedup': True}, {'seq_length': 512, 'epochs': 70, 'microF1': 0.6804733727810651, 'macroF1': 0.5311580704024008, 'dedup': True}, {'seq_length': 256, 'epochs': 25, 'microF1': 0.6292134831460674, 'macroF1': 0.5470349820313087, 'dedup': False}, {'seq_length': 512, 'epochs': 25, 'microF1': 0.6292134831460674, 'macroF1': 0.6180901928963943, 'dedup': False}, {'seq_length': 256, 'epochs': 35, 'microF1': 0.6123595505617978, 'macroF1': 0.5095131984615814, 'dedup': False}, {'seq_length': 512, 'epochs': 35, 'microF1': 0.6629213483146067, 'macroF1': 0.6149288933109567, 'dedup': False}, {'seq_length': 256, 'epochs': 40, 'microF1': 0.6235955056179775, 'macroF1': 0.5976482595597002, 'dedup': False}, {'seq_length': 512, 'epochs': 40, 'microF1': 0.6404494382022472, 'macroF1': 0.5797592026656065, 'dedup': False}, {'seq_length': 256, 'epochs': 55, 'microF1': 0.6235955056179775, 'macroF1': 0.5622273920179531, 'dedup': False}]\n",
    "for dedup in [False, True]:\n",
    "    for n in [5, 10, 20, 25, 30, 35, 40, 55, 80]:\n",
    "        for s in [256, 512]:\n",
    "            if len([i for i in results if i[\"seq_length\"]==s and i[\"epochs\"]==n and i[\"dedup\"]==dedup]) != 0:\n",
    "                continue  \n",
    "            micro, macro = train_and_evaluate(n, s, dedup=dedup)\n",
    "            results.append({\n",
    "                \"seq_length\": s,\n",
    "                \"epochs\": n,\n",
    "                \"microF1\": micro,\n",
    "                \"macroF1\": macro,\n",
    "                \"dedup\": dedup\n",
    "            })\n",
    "            print(results)\n",
    "            import gc\n",
    "            gc.collect()"
   ]
  },
  {
   "cell_type": "code",
   "execution_count": null,
   "metadata": {},
   "outputs": [],
   "source": [
    "results"
   ]
  },
  {
   "cell_type": "code",
   "execution_count": null,
   "metadata": {},
   "outputs": [],
   "source": [
    "!pwd"
   ]
  },
  {
   "cell_type": "code",
   "execution_count": null,
   "metadata": {},
   "outputs": [],
   "source": [
    "import json\n",
    "\n",
    "with open(\"hyperparameter_data.json\", \"w\") as f:\n",
    "    json.dump(results, f)"
   ]
  },
  {
   "cell_type": "code",
   "execution_count": null,
   "metadata": {},
   "outputs": [],
   "source": [
    "import matplotlib.pyplot as plt \n",
    "plt.style.use([\"science\", \"no-latex\"])\n",
    "\n",
    "import pandas as pd\n"
   ]
  },
  {
   "cell_type": "code",
   "execution_count": null,
   "metadata": {},
   "outputs": [],
   "source": [
    "df = pd.DataFrame(data=results)\n",
    "df.head()"
   ]
  },
  {
   "cell_type": "code",
   "execution_count": null,
   "metadata": {},
   "outputs": [],
   "source": [
    "filter1 = df.seq_length == 256\n",
    "filter2 = df.dedup == False\n",
    "\n",
    "subset = df[filter1 & filter2]\n",
    "\n",
    "\n",
    "plt.figure(dpi=200)\n",
    "plt.plot(subset.epochs, subset.microF1, \"o--\", label=\"micro F1\")\n",
    "plt.plot(subset.epochs, subset.macroF1, \"o--\", label=\"macro F1\", color=\"tab:orange\")\n",
    "plt.xlabel(\"Epochs\")\n",
    "plt.legend()\n",
    "\n",
    "plt.title(\"Full dataset, seq length 256\")\n",
    "plt.tight_layout()\n",
    "\n",
    "plt.savefig(\"images/hyperparams_1.png\")\n",
    "plt.show()"
   ]
  },
  {
   "cell_type": "code",
   "execution_count": null,
   "metadata": {},
   "outputs": [],
   "source": [
    "filter1 = df.seq_length == 256\n",
    "filter2 = df.dedup == True\n",
    "\n",
    "subset = df[filter1 & filter2]\n",
    "\n",
    "\n",
    "plt.figure(dpi=200)\n",
    "plt.plot(subset.epochs, subset.microF1, \"o--\", label=\"micro F1\")\n",
    "plt.plot(subset.epochs, subset.macroF1, \"o--\", label=\"macro F1\", color=\"tab:orange\")\n",
    "plt.xlabel(\"Epochs\")\n",
    "plt.legend()\n",
    "\n",
    "plt.title(\"DEDUP dataset, seq length 256\")\n",
    "plt.tight_layout()\n",
    "\n",
    "plt.savefig(\"images/hyperparams_2.png\")\n",
    "plt.show()"
   ]
  },
  {
   "cell_type": "markdown",
   "metadata": {},
   "source": [
    "Comparison between seq lengths:"
   ]
  },
  {
   "cell_type": "code",
   "execution_count": null,
   "metadata": {},
   "outputs": [],
   "source": [
    "\n",
    "\n",
    "plt.figure(dpi=200, figsize=(6,4))\n",
    "\n",
    "for s in [512, 256]:\n",
    "    for dedup in [True, False]:\n",
    "        condition1 = df.seq_length == s\n",
    "        condition2 = df.dedup == dedup\n",
    "        sub = df[condition1 & condition2]\n",
    "        if dedup:\n",
    "            lst = \"-\"\n",
    "        else:\n",
    "            lst = \"--\"\n",
    "        if s == 512:\n",
    "            m = \"x\"\n",
    "        else:\n",
    "            m = \".\"\n",
    "        plt.plot(sub.epochs, sub.macroF1, label=f\"{'full' if not dedup else 'dedup'} DS, {s} seq length\",\n",
    "                linestyle=lst, \n",
    "                marker=m\n",
    "                )       \n",
    "plt.ylabel(\"macro F1 score\")\n",
    "plt.xlabel(\"Epochs\")\n",
    "plt.legend()\n",
    "\n",
    "plt.title(\"Seq length comparison\")\n",
    "plt.tight_layout()\n",
    "\n",
    "plt.savefig(\"images/hyperparams_3.png\")\n",
    "plt.show()"
   ]
  },
  {
   "cell_type": "code",
   "execution_count": null,
   "metadata": {},
   "outputs": [],
   "source": [
    "\n",
    "\n",
    "plt.figure(dpi=200, figsize=(6,4))\n",
    "\n",
    "for s in [512, 256]:\n",
    "    for dedup in [True, False]:\n",
    "        condition1 = df.seq_length == s\n",
    "        condition2 = df.dedup == dedup\n",
    "        sub = df[condition1 & condition2]\n",
    "        if dedup:\n",
    "            lst = \"-\"\n",
    "        else:\n",
    "            lst = \"--\"\n",
    "        if s == 512:\n",
    "            m = \"x\"\n",
    "        else:\n",
    "            m = \".\"\n",
    "        plt.plot(sub.epochs, sub.microF1, label=f\"{'full' if not dedup else 'dedup'} DS, {s} seq length\",\n",
    "                linestyle=lst, \n",
    "                marker=m\n",
    "                )       \n",
    "plt.ylabel(\"micro F1 score\")\n",
    "plt.xlabel(\"Epochs\")\n",
    "plt.legend()\n",
    "\n",
    "plt.title(\"Seq length comparison\")\n",
    "plt.tight_layout()\n",
    "\n",
    "plt.savefig(\"images/hyperparams_4.png\")\n",
    "plt.show()"
   ]
  },
  {
   "cell_type": "code",
   "execution_count": null,
   "metadata": {},
   "outputs": [],
   "source": []
  }
 ],
 "metadata": {
  "interpreter": {
   "hash": "7f6f5766036ee03d059e365a942add07f79c17033585e9357ee8157d52fe6bb9"
  },
  "kernelspec": {
   "display_name": "Python 3.8.3 64-bit ('base': conda)",
   "name": "python3"
  },
  "language_info": {
   "codemirror_mode": {
    "name": "ipython",
    "version": 3
   },
   "file_extension": ".py",
   "mimetype": "text/x-python",
   "name": "python",
   "nbconvert_exporter": "python",
   "pygments_lexer": "ipython3",
   "version": "3.8.3"
  },
  "orig_nbformat": 4
 },
 "nbformat": 4,
 "nbformat_minor": 2
}
