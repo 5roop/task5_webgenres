{
 "cells": [
  {
   "cell_type": "code",
   "execution_count": 1,
   "metadata": {},
   "outputs": [],
   "source": [
    "import json\n",
    "\n",
    "dataset_path = \"/home/peterr/macocu/task5_webgenres/data/original/dataset/dataset.json\"\n",
    "\n",
    "with open(dataset_path, \"r\") as f:\n",
    "    dataset = json.load(f)\n"
   ]
  },
  {
   "cell_type": "code",
   "execution_count": 2,
   "metadata": {},
   "outputs": [
    {
     "data": {
      "text/plain": [
       "1002"
      ]
     },
     "execution_count": 2,
     "metadata": {},
     "output_type": "execute_result"
    }
   ],
   "source": [
    "len(dataset)"
   ]
  },
  {
   "cell_type": "markdown",
   "metadata": {},
   "source": [
    "# Downsampling rare labels\n",
    "\n",
    "Rarely occuring primary and secondary labels will be changed as per `Dictionaries_for_genre_mapping.py`:"
   ]
  },
  {
   "cell_type": "code",
   "execution_count": 3,
   "metadata": {},
   "outputs": [],
   "source": [
    "# First step - categories with less than 5 examples are merged with other categories:\n",
    "first = {\"Script/Drama\":\"Other\", \"Lyrical\":\"Other\",\"FAQ\":\"Other\"}\n",
    "\n",
    "# Second step - categories (marked by the arrow in the hierarchy figure) are merged with similar categories:\n",
    "second = {\"Recipe\":\"Instruction\", \"Research Article\":\"Information/Explanation\", \"Review\":\"Opinion/Argumentation\", \"Promotion of Services\":\"Promotion\", \"Promotion of a Product\":\"Promotion\", \"Invitation\":\"Promotion\"}\n"
   ]
  },
  {
   "cell_type": "code",
   "execution_count": 5,
   "metadata": {},
   "outputs": [],
   "source": [
    "for i, document in enumerate(dataset):\n",
    "    primary = document[\"primary\"]\n",
    "    secondary = document[\"secondary\"]\n",
    "\n",
    "    if primary in first.keys():\n",
    "        #print(f\"Changing primary from {primary} to {first[primary]}\")\n",
    "        document[\"primary\"] = first[primary]\n",
    "        \n",
    "    if secondary in first.keys():\n",
    "        #print(f\"Changing secondary from {secondary} to {first[secondary]}\")\n",
    "        document[\"secondary\"] = first[secondary]\n",
    "\n",
    "    if primary in second.keys():\n",
    "        #print(f\"Changing primary from {primary} to {second[primary]}\")\n",
    "        document[\"primary\"] = second[primary]\n",
    "\n",
    "    if secondary in second.keys():\n",
    "        #print(f\"Changing secondary from {secondary} to {second[secondary]}\")\n",
    "        document[\"secondary\"] = second[secondary]\n",
    "\n",
    "    dataset[i] = document\n"
   ]
  },
  {
   "cell_type": "markdown",
   "metadata": {},
   "source": [
    "In total 262 changes were made.\n",
    "\n",
    "Next: domains will be extracted from urls and saved in the dataset."
   ]
  },
  {
   "cell_type": "code",
   "execution_count": 9,
   "metadata": {},
   "outputs": [
    {
     "name": "stdout",
     "output_type": "stream",
     "text": [
      "URL starts:  {'https:/', 'http://'}\n",
      "URL ends:  {'4', 'd', '.', '3', '+', 'f', '/', 'k', 'x', 't', '9', 'j', '-', '&', 'M', 'r', 'c', '5', 'e', 'h', 'g', '1', 's', 'u', 'w', '6', 'v', 'o', 'l', 'm', '=', '2', 'L', 'i', 'a', '7', '8', 'p', '0', 'n', 'y'}\n"
     ]
    }
   ],
   "source": [
    "urls = [item[\"url\"] for item in dataset]\n",
    "\n",
    "starts = set([url[0:7] for url in urls])\n",
    "print(\"URL starts: \", starts)\n",
    "\n",
    "ends = set(url[-1] for url in urls)\n",
    "print(\"URL ends: \", ends)\n"
   ]
  },
  {
   "cell_type": "markdown",
   "metadata": {},
   "source": [
    "As we see, all of the URLs start with either http or https. This will make parsing a bit easiers."
   ]
  },
  {
   "cell_type": "code",
   "execution_count": 16,
   "metadata": {},
   "outputs": [
    {
     "name": "stdout",
     "output_type": "stream",
     "text": [
      "http://multicsreen.uscom.si/\n",
      "http://www.miroslav-vilhar.si/\n",
      "http://www.miroslav-vilhar.si/\n",
      "http://www.miroslav-vilhar.si/\n",
      "http://pizza-grad.com/\n",
      "https://postni-nabiralniki.si/\n",
      "https://www.estet-interier.si/\n"
     ]
    }
   ],
   "source": [
    "import parse\n",
    "\n",
    "pattern = \"{protocol}://{domain}/{rest}\"\n",
    "p = parse.compile(pattern)\n",
    "\n",
    "for document in dataset:\n",
    "    parse_result = p.parse(document[\"url\"])\n",
    "    try:\n",
    "        document[\"domain\"] = parse_result[\"domain\"]\n",
    "    except TypeError:\n",
    "        print(document[\"url\"])\n"
   ]
  },
  {
   "cell_type": "markdown",
   "metadata": {},
   "source": [
    "As we see, this is a situation where we crawled URLs that do not have anything after the third slash. This will be solved by using a modified pattern, as can be seen below:"
   ]
  },
  {
   "cell_type": "code",
   "execution_count": 17,
   "metadata": {},
   "outputs": [],
   "source": [
    "import parse\n",
    "\n",
    "pattern = \"{protocol}://{domain}/{rest}\"\n",
    "p = parse.compile(pattern)\n",
    "\n",
    "modified_pattern = \"{protocol}://{domain}/\"\n",
    "mp = parse.compile(modified_pattern)\n",
    "for document in dataset:\n",
    "    parse_result = p.parse(document[\"url\"])\n",
    "    try:\n",
    "        document[\"domain\"] = parse_result[\"domain\"]\n",
    "    except TypeError:\n",
    "        parse_result = mp.parse(document[\"url\"])\n",
    "        document[\"domain\"] = parse_result[\"domain\"]\n"
   ]
  },
  {
   "cell_type": "markdown",
   "metadata": {},
   "source": [
    "Let's inspect the first element to be sure that the documents have been modified correctly:"
   ]
  },
  {
   "cell_type": "code",
   "execution_count": 18,
   "metadata": {},
   "outputs": [
    {
     "data": {
      "text/plain": [
       "{'id': '3949',\n",
       " 'url': 'http://www.pomurje.si/aktualno/sport/zimska-liga-malega-nogometa/',\n",
       " 'crawled': '2014',\n",
       " 'primary': 'News/Reporting',\n",
       " 'secondary': '',\n",
       " 'tertiary': '',\n",
       " 'hard': False,\n",
       " 'paragraphs': [{'text': 'Šport', 'duplicate': False, 'keep': True},\n",
       "  {'text': 'Zimska liga malega nogometa sobota, 12.02.2011',\n",
       "   'duplicate': False,\n",
       "   'keep': True},\n",
       "  {'text': 'avtor: Tonček Gider', 'duplicate': False, 'keep': True},\n",
       "  {'text': \"V 7. krogu zimske lige v malem nogometu v Križevcih pri Ljutomeru je v prvi ligi vodilni 100 plus iz Križevec izgubil s tretjo ekipo na lestvici Rock'n roll iz Križevec z rezultatom 1:2, druga na lestvici Top Finedika iz Križevec je bila poražena z ekipo Bar Milene iz Ključarovec z rezultatom 7:8. V drugi križevski ligi je vodilni Cafe del Mar iz Vučje vasi premagal Montažo Vrbnjak iz Stare Nove vasi z rezultatom 3:2.\",\n",
       "   'duplicate': False,\n",
       "   'keep': True},\n",
       "  {'text': 'oglasno sporočilo', 'duplicate': False, 'keep': True},\n",
       "  {'text': 'Ocena', 'duplicate': False, 'keep': True},\n",
       "  {'text': 'Komentiraj Za komentiranje ali ocenjevanje moraš biti registriran in prijavljen uporabnik. Registriraj se!',\n",
       "   'duplicate': True,\n",
       "   'keep': False}],\n",
       " 'domain': 'www.pomurje.si'}"
      ]
     },
     "execution_count": 18,
     "metadata": {},
     "output_type": "execute_result"
    }
   ],
   "source": [
    "dataset[0]"
   ]
  },
  {
   "cell_type": "markdown",
   "metadata": {},
   "source": [
    "# Transforming the dataset in tabular form"
   ]
  },
  {
   "cell_type": "code",
   "execution_count": 23,
   "metadata": {},
   "outputs": [
    {
     "data": {
      "text/plain": [
       "dict_keys(['id', 'url', 'crawled', 'primary', 'secondary', 'tertiary', 'hard', 'paragraphs', 'domain'])"
      ]
     },
     "execution_count": 23,
     "metadata": {},
     "output_type": "execute_result"
    }
   ],
   "source": [
    "fields = dataset[0].keys()\n",
    "fields"
   ]
  },
  {
   "cell_type": "code",
   "execution_count": 24,
   "metadata": {},
   "outputs": [],
   "source": [
    "tabular_dataset = dict()\n",
    "for field in fields:\n",
    "    tabular_dataset[field] = [item[field] for item in dataset]"
   ]
  },
  {
   "cell_type": "code",
   "execution_count": 26,
   "metadata": {},
   "outputs": [
    {
     "data": {
      "text/html": [
       "<div>\n",
       "<style scoped>\n",
       "    .dataframe tbody tr th:only-of-type {\n",
       "        vertical-align: middle;\n",
       "    }\n",
       "\n",
       "    .dataframe tbody tr th {\n",
       "        vertical-align: top;\n",
       "    }\n",
       "\n",
       "    .dataframe thead th {\n",
       "        text-align: right;\n",
       "    }\n",
       "</style>\n",
       "<table border=\"1\" class=\"dataframe\">\n",
       "  <thead>\n",
       "    <tr style=\"text-align: right;\">\n",
       "      <th></th>\n",
       "      <th>id</th>\n",
       "      <th>url</th>\n",
       "      <th>crawled</th>\n",
       "      <th>primary</th>\n",
       "      <th>secondary</th>\n",
       "      <th>tertiary</th>\n",
       "      <th>hard</th>\n",
       "      <th>paragraphs</th>\n",
       "      <th>domain</th>\n",
       "    </tr>\n",
       "  </thead>\n",
       "  <tbody>\n",
       "    <tr>\n",
       "      <th>0</th>\n",
       "      <td>3949</td>\n",
       "      <td>http://www.pomurje.si/aktualno/sport/zimska-li...</td>\n",
       "      <td>2014</td>\n",
       "      <td>News/Reporting</td>\n",
       "      <td></td>\n",
       "      <td></td>\n",
       "      <td>False</td>\n",
       "      <td>[{'text': 'Šport', 'duplicate': False, 'keep':...</td>\n",
       "      <td>www.pomurje.si</td>\n",
       "    </tr>\n",
       "    <tr>\n",
       "      <th>1</th>\n",
       "      <td>3726</td>\n",
       "      <td>http://www.ss-sezana.si/sss/index.php?option=c...</td>\n",
       "      <td>2014</td>\n",
       "      <td>Information/Explanation</td>\n",
       "      <td></td>\n",
       "      <td></td>\n",
       "      <td>False</td>\n",
       "      <td>[{'text': 'JEDILNIK', 'duplicate': False, 'kee...</td>\n",
       "      <td>www.ss-sezana.si</td>\n",
       "    </tr>\n",
       "    <tr>\n",
       "      <th>2</th>\n",
       "      <td>5621</td>\n",
       "      <td>http://www.kamnik-starejsi.si/novice/144-sodel...</td>\n",
       "      <td>2014</td>\n",
       "      <td>Promotion</td>\n",
       "      <td>Opinion/Argumentation</td>\n",
       "      <td>Information/Explanation</td>\n",
       "      <td>False</td>\n",
       "      <td>[{'text': 'Projekt INNOVAge in zavod Oreli', '...</td>\n",
       "      <td>www.kamnik-starejsi.si</td>\n",
       "    </tr>\n",
       "    <tr>\n",
       "      <th>3</th>\n",
       "      <td>3776</td>\n",
       "      <td>http://www.radiocelje.si/novica.php?id=13007&amp;a...</td>\n",
       "      <td>2014</td>\n",
       "      <td>News/Reporting</td>\n",
       "      <td></td>\n",
       "      <td></td>\n",
       "      <td>False</td>\n",
       "      <td>[{'text': 'V novembru, mesecu preprečevanja od...</td>\n",
       "      <td>www.radiocelje.si</td>\n",
       "    </tr>\n",
       "    <tr>\n",
       "      <th>4</th>\n",
       "      <td>2102</td>\n",
       "      <td>http://www.mtv.si/novice/selena-gomez-ponudila...</td>\n",
       "      <td>2014</td>\n",
       "      <td>Opinionated News</td>\n",
       "      <td></td>\n",
       "      <td></td>\n",
       "      <td>False</td>\n",
       "      <td>[{'text': 'Selena Gomez ponudila v poslušanje ...</td>\n",
       "      <td>www.mtv.si</td>\n",
       "    </tr>\n",
       "  </tbody>\n",
       "</table>\n",
       "</div>"
      ],
      "text/plain": [
       "     id                                                url crawled  \\\n",
       "0  3949  http://www.pomurje.si/aktualno/sport/zimska-li...    2014   \n",
       "1  3726  http://www.ss-sezana.si/sss/index.php?option=c...    2014   \n",
       "2  5621  http://www.kamnik-starejsi.si/novice/144-sodel...    2014   \n",
       "3  3776  http://www.radiocelje.si/novica.php?id=13007&a...    2014   \n",
       "4  2102  http://www.mtv.si/novice/selena-gomez-ponudila...    2014   \n",
       "\n",
       "                   primary              secondary                 tertiary  \\\n",
       "0           News/Reporting                                                   \n",
       "1  Information/Explanation                                                   \n",
       "2                Promotion  Opinion/Argumentation  Information/Explanation   \n",
       "3           News/Reporting                                                   \n",
       "4         Opinionated News                                                   \n",
       "\n",
       "    hard                                         paragraphs  \\\n",
       "0  False  [{'text': 'Šport', 'duplicate': False, 'keep':...   \n",
       "1  False  [{'text': 'JEDILNIK', 'duplicate': False, 'kee...   \n",
       "2  False  [{'text': 'Projekt INNOVAge in zavod Oreli', '...   \n",
       "3  False  [{'text': 'V novembru, mesecu preprečevanja od...   \n",
       "4  False  [{'text': 'Selena Gomez ponudila v poslušanje ...   \n",
       "\n",
       "                   domain  \n",
       "0          www.pomurje.si  \n",
       "1        www.ss-sezana.si  \n",
       "2  www.kamnik-starejsi.si  \n",
       "3       www.radiocelje.si  \n",
       "4              www.mtv.si  "
      ]
     },
     "execution_count": 26,
     "metadata": {},
     "output_type": "execute_result"
    }
   ],
   "source": [
    "import pandas as pd\n",
    "\n",
    "df = pd.DataFrame(data=tabular_dataset)\n",
    "df.head()"
   ]
  },
  {
   "cell_type": "code",
   "execution_count": null,
   "metadata": {},
   "outputs": [],
   "source": []
  }
 ],
 "metadata": {
  "interpreter": {
   "hash": "7f6f5766036ee03d059e365a942add07f79c17033585e9357ee8157d52fe6bb9"
  },
  "kernelspec": {
   "display_name": "Python 3.8.3 64-bit ('base': conda)",
   "name": "python3"
  },
  "language_info": {
   "codemirror_mode": {
    "name": "ipython",
    "version": 3
   },
   "file_extension": ".py",
   "mimetype": "text/x-python",
   "name": "python",
   "nbconvert_exporter": "python",
   "pygments_lexer": "ipython3",
   "version": "3.8.3"
  },
  "orig_nbformat": 4
 },
 "nbformat": 4,
 "nbformat_minor": 2
}
