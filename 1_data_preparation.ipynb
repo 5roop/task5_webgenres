{
 "cells": [
  {
   "cell_type": "code",
   "execution_count": 1,
   "metadata": {},
   "outputs": [],
   "source": [
    "import json\n",
    "\n",
    "dataset_path = \"/home/peterr/macocu/task5_webgenres/data/original/dataset/dataset.json\"\n",
    "\n",
    "with open(dataset_path, \"r\") as f:\n",
    "    dataset = json.load(f)\n"
   ]
  },
  {
   "cell_type": "code",
   "execution_count": 2,
   "metadata": {},
   "outputs": [
    {
     "data": {
      "text/plain": [
       "1002"
      ]
     },
     "execution_count": 2,
     "metadata": {},
     "output_type": "execute_result"
    }
   ],
   "source": [
    "len(dataset)"
   ]
  },
  {
   "cell_type": "markdown",
   "metadata": {},
   "source": [
    "# Downsampling rare labels\n",
    "\n",
    "Rarely occuring primary and secondary labels will be changed as per `Dictionaries_for_genre_mapping.py`:"
   ]
  },
  {
   "cell_type": "code",
   "execution_count": 3,
   "metadata": {},
   "outputs": [],
   "source": [
    "# First step - categories with less than 5 examples are merged with other categories:\n",
    "first = {\"Script/Drama\":\"Other\", \"Lyrical\":\"Other\",\"FAQ\":\"Other\"}\n",
    "\n",
    "# Second step - categories (marked by the arrow in the hierarchy figure) are merged with similar categories:\n",
    "second = {\"Recipe\":\"Instruction\", \"Research Article\":\"Information/Explanation\", \"Review\":\"Opinion/Argumentation\", \"Promotion of Services\":\"Promotion\", \"Promotion of a Product\":\"Promotion\", \"Invitation\":\"Promotion\"}\n"
   ]
  },
  {
   "cell_type": "code",
   "execution_count": 4,
   "metadata": {},
   "outputs": [],
   "source": [
    "for i, document in enumerate(dataset):\n",
    "    primary = document[\"primary\"]\n",
    "    secondary = document[\"secondary\"]\n",
    "\n",
    "    if primary in first.keys():\n",
    "        #print(f\"Changing primary from {primary} to {first[primary]}\")\n",
    "        document[\"primary\"] = first[primary]\n",
    "        \n",
    "    if secondary in first.keys():\n",
    "        #print(f\"Changing secondary from {secondary} to {first[secondary]}\")\n",
    "        document[\"secondary\"] = first[secondary]\n",
    "\n",
    "    if primary in second.keys():\n",
    "        #print(f\"Changing primary from {primary} to {second[primary]}\")\n",
    "        document[\"primary\"] = second[primary]\n",
    "\n",
    "    if secondary in second.keys():\n",
    "        #print(f\"Changing secondary from {secondary} to {second[secondary]}\")\n",
    "        document[\"secondary\"] = second[secondary]\n",
    "\n",
    "    dataset[i] = document\n"
   ]
  },
  {
   "cell_type": "markdown",
   "metadata": {},
   "source": [
    "In total 262 changes were made.\n",
    "\n",
    "Next: domains will be extracted from urls and saved in the dataset."
   ]
  },
  {
   "cell_type": "code",
   "execution_count": 5,
   "metadata": {},
   "outputs": [
    {
     "name": "stdout",
     "output_type": "stream",
     "text": [
      "URL starts:  {'http://', 'https:/'}\n",
      "URL ends:  {'&', 'n', 's', 'e', 'a', '+', '7', 'd', 'f', 'm', 'v', 'k', 'g', 'o', 'M', 'r', '3', 'l', '-', '=', 'c', '/', '6', 'h', 'p', 'L', 'i', '2', 'y', '9', '5', 'j', 'w', 't', '4', '.', '1', '8', '0', 'u', 'x'}\n"
     ]
    }
   ],
   "source": [
    "urls = [item[\"url\"] for item in dataset]\n",
    "\n",
    "starts = set([url[0:7] for url in urls])\n",
    "print(\"URL starts: \", starts)\n",
    "\n",
    "ends = set(url[-1] for url in urls)\n",
    "print(\"URL ends: \", ends)\n"
   ]
  },
  {
   "cell_type": "markdown",
   "metadata": {},
   "source": [
    "As we see, all of the URLs start with either http or https. This will make parsing a bit easiers."
   ]
  },
  {
   "cell_type": "code",
   "execution_count": 6,
   "metadata": {},
   "outputs": [
    {
     "name": "stdout",
     "output_type": "stream",
     "text": [
      "http://multicsreen.uscom.si/\n",
      "http://www.miroslav-vilhar.si/\n",
      "http://www.miroslav-vilhar.si/\n",
      "http://www.miroslav-vilhar.si/\n",
      "http://pizza-grad.com/\n",
      "https://postni-nabiralniki.si/\n",
      "https://www.estet-interier.si/\n"
     ]
    }
   ],
   "source": [
    "import parse\n",
    "\n",
    "pattern = \"{protocol}://{domain}/{rest}\"\n",
    "p = parse.compile(pattern)\n",
    "\n",
    "for document in dataset:\n",
    "    parse_result = p.parse(document[\"url\"])\n",
    "    try:\n",
    "        document[\"domain\"] = parse_result[\"domain\"]\n",
    "    except TypeError:\n",
    "        print(document[\"url\"])\n"
   ]
  },
  {
   "cell_type": "markdown",
   "metadata": {},
   "source": [
    "As we see, this is a situation where we crawled URLs that do not have anything after the third slash. This will be solved by using a modified pattern, as can be seen below:"
   ]
  },
  {
   "cell_type": "code",
   "execution_count": 7,
   "metadata": {},
   "outputs": [],
   "source": [
    "import parse\n",
    "\n",
    "pattern = \"{protocol}://{domain}/{rest}\"\n",
    "p = parse.compile(pattern)\n",
    "\n",
    "modified_pattern = \"{protocol}://{domain}/\"\n",
    "mp = parse.compile(modified_pattern)\n",
    "for document in dataset:\n",
    "    parse_result = p.parse(document[\"url\"])\n",
    "    try:\n",
    "        document[\"domain\"] = parse_result[\"domain\"]\n",
    "    except TypeError:\n",
    "        parse_result = mp.parse(document[\"url\"])\n",
    "        document[\"domain\"] = parse_result[\"domain\"]\n"
   ]
  },
  {
   "cell_type": "markdown",
   "metadata": {},
   "source": [
    "Let's inspect the first element to be sure that the documents have been modified correctly:"
   ]
  },
  {
   "cell_type": "code",
   "execution_count": 8,
   "metadata": {},
   "outputs": [
    {
     "data": {
      "text/plain": [
       "{'id': '3949',\n",
       " 'url': 'http://www.pomurje.si/aktualno/sport/zimska-liga-malega-nogometa/',\n",
       " 'crawled': '2014',\n",
       " 'primary': 'News/Reporting',\n",
       " 'secondary': '',\n",
       " 'tertiary': '',\n",
       " 'hard': False,\n",
       " 'paragraphs': [{'text': 'Šport', 'duplicate': False, 'keep': True},\n",
       "  {'text': 'Zimska liga malega nogometa sobota, 12.02.2011',\n",
       "   'duplicate': False,\n",
       "   'keep': True},\n",
       "  {'text': 'avtor: Tonček Gider', 'duplicate': False, 'keep': True},\n",
       "  {'text': \"V 7. krogu zimske lige v malem nogometu v Križevcih pri Ljutomeru je v prvi ligi vodilni 100 plus iz Križevec izgubil s tretjo ekipo na lestvici Rock'n roll iz Križevec z rezultatom 1:2, druga na lestvici Top Finedika iz Križevec je bila poražena z ekipo Bar Milene iz Ključarovec z rezultatom 7:8. V drugi križevski ligi je vodilni Cafe del Mar iz Vučje vasi premagal Montažo Vrbnjak iz Stare Nove vasi z rezultatom 3:2.\",\n",
       "   'duplicate': False,\n",
       "   'keep': True},\n",
       "  {'text': 'oglasno sporočilo', 'duplicate': False, 'keep': True},\n",
       "  {'text': 'Ocena', 'duplicate': False, 'keep': True},\n",
       "  {'text': 'Komentiraj Za komentiranje ali ocenjevanje moraš biti registriran in prijavljen uporabnik. Registriraj se!',\n",
       "   'duplicate': True,\n",
       "   'keep': False}],\n",
       " 'domain': 'www.pomurje.si'}"
      ]
     },
     "execution_count": 8,
     "metadata": {},
     "output_type": "execute_result"
    }
   ],
   "source": [
    "dataset[0]"
   ]
  },
  {
   "cell_type": "markdown",
   "metadata": {},
   "source": [
    "# Transforming the dataset in tabular form"
   ]
  },
  {
   "cell_type": "code",
   "execution_count": 9,
   "metadata": {},
   "outputs": [
    {
     "data": {
      "text/plain": [
       "dict_keys(['id', 'url', 'crawled', 'primary', 'secondary', 'tertiary', 'hard', 'paragraphs', 'domain'])"
      ]
     },
     "execution_count": 9,
     "metadata": {},
     "output_type": "execute_result"
    }
   ],
   "source": [
    "fields = dataset[0].keys()\n",
    "fields"
   ]
  },
  {
   "cell_type": "code",
   "execution_count": 10,
   "metadata": {},
   "outputs": [],
   "source": [
    "tabular_dataset = dict()\n",
    "for field in fields:\n",
    "    tabular_dataset[field] = [item[field] for item in dataset]"
   ]
  },
  {
   "cell_type": "code",
   "execution_count": 11,
   "metadata": {},
   "outputs": [
    {
     "data": {
      "text/html": [
       "<div>\n",
       "<style scoped>\n",
       "    .dataframe tbody tr th:only-of-type {\n",
       "        vertical-align: middle;\n",
       "    }\n",
       "\n",
       "    .dataframe tbody tr th {\n",
       "        vertical-align: top;\n",
       "    }\n",
       "\n",
       "    .dataframe thead th {\n",
       "        text-align: right;\n",
       "    }\n",
       "</style>\n",
       "<table border=\"1\" class=\"dataframe\">\n",
       "  <thead>\n",
       "    <tr style=\"text-align: right;\">\n",
       "      <th></th>\n",
       "      <th>id</th>\n",
       "      <th>url</th>\n",
       "      <th>crawled</th>\n",
       "      <th>primary</th>\n",
       "      <th>secondary</th>\n",
       "      <th>tertiary</th>\n",
       "      <th>hard</th>\n",
       "      <th>paragraphs</th>\n",
       "      <th>domain</th>\n",
       "    </tr>\n",
       "  </thead>\n",
       "  <tbody>\n",
       "    <tr>\n",
       "      <th>0</th>\n",
       "      <td>3949</td>\n",
       "      <td>http://www.pomurje.si/aktualno/sport/zimska-li...</td>\n",
       "      <td>2014</td>\n",
       "      <td>News/Reporting</td>\n",
       "      <td></td>\n",
       "      <td></td>\n",
       "      <td>False</td>\n",
       "      <td>[{'text': 'Šport', 'duplicate': False, 'keep':...</td>\n",
       "      <td>www.pomurje.si</td>\n",
       "    </tr>\n",
       "    <tr>\n",
       "      <th>1</th>\n",
       "      <td>3726</td>\n",
       "      <td>http://www.ss-sezana.si/sss/index.php?option=c...</td>\n",
       "      <td>2014</td>\n",
       "      <td>Information/Explanation</td>\n",
       "      <td></td>\n",
       "      <td></td>\n",
       "      <td>False</td>\n",
       "      <td>[{'text': 'JEDILNIK', 'duplicate': False, 'kee...</td>\n",
       "      <td>www.ss-sezana.si</td>\n",
       "    </tr>\n",
       "    <tr>\n",
       "      <th>2</th>\n",
       "      <td>5621</td>\n",
       "      <td>http://www.kamnik-starejsi.si/novice/144-sodel...</td>\n",
       "      <td>2014</td>\n",
       "      <td>Promotion</td>\n",
       "      <td>Opinion/Argumentation</td>\n",
       "      <td>Information/Explanation</td>\n",
       "      <td>False</td>\n",
       "      <td>[{'text': 'Projekt INNOVAge in zavod Oreli', '...</td>\n",
       "      <td>www.kamnik-starejsi.si</td>\n",
       "    </tr>\n",
       "    <tr>\n",
       "      <th>3</th>\n",
       "      <td>3776</td>\n",
       "      <td>http://www.radiocelje.si/novica.php?id=13007&amp;a...</td>\n",
       "      <td>2014</td>\n",
       "      <td>News/Reporting</td>\n",
       "      <td></td>\n",
       "      <td></td>\n",
       "      <td>False</td>\n",
       "      <td>[{'text': 'V novembru, mesecu preprečevanja od...</td>\n",
       "      <td>www.radiocelje.si</td>\n",
       "    </tr>\n",
       "    <tr>\n",
       "      <th>4</th>\n",
       "      <td>2102</td>\n",
       "      <td>http://www.mtv.si/novice/selena-gomez-ponudila...</td>\n",
       "      <td>2014</td>\n",
       "      <td>Opinionated News</td>\n",
       "      <td></td>\n",
       "      <td></td>\n",
       "      <td>False</td>\n",
       "      <td>[{'text': 'Selena Gomez ponudila v poslušanje ...</td>\n",
       "      <td>www.mtv.si</td>\n",
       "    </tr>\n",
       "  </tbody>\n",
       "</table>\n",
       "</div>"
      ],
      "text/plain": [
       "     id                                                url crawled  \\\n",
       "0  3949  http://www.pomurje.si/aktualno/sport/zimska-li...    2014   \n",
       "1  3726  http://www.ss-sezana.si/sss/index.php?option=c...    2014   \n",
       "2  5621  http://www.kamnik-starejsi.si/novice/144-sodel...    2014   \n",
       "3  3776  http://www.radiocelje.si/novica.php?id=13007&a...    2014   \n",
       "4  2102  http://www.mtv.si/novice/selena-gomez-ponudila...    2014   \n",
       "\n",
       "                   primary              secondary                 tertiary  \\\n",
       "0           News/Reporting                                                   \n",
       "1  Information/Explanation                                                   \n",
       "2                Promotion  Opinion/Argumentation  Information/Explanation   \n",
       "3           News/Reporting                                                   \n",
       "4         Opinionated News                                                   \n",
       "\n",
       "    hard                                         paragraphs  \\\n",
       "0  False  [{'text': 'Šport', 'duplicate': False, 'keep':...   \n",
       "1  False  [{'text': 'JEDILNIK', 'duplicate': False, 'kee...   \n",
       "2  False  [{'text': 'Projekt INNOVAge in zavod Oreli', '...   \n",
       "3  False  [{'text': 'V novembru, mesecu preprečevanja od...   \n",
       "4  False  [{'text': 'Selena Gomez ponudila v poslušanje ...   \n",
       "\n",
       "                   domain  \n",
       "0          www.pomurje.si  \n",
       "1        www.ss-sezana.si  \n",
       "2  www.kamnik-starejsi.si  \n",
       "3       www.radiocelje.si  \n",
       "4              www.mtv.si  "
      ]
     },
     "execution_count": 11,
     "metadata": {},
     "output_type": "execute_result"
    }
   ],
   "source": [
    "import pandas as pd\n",
    "\n",
    "df = pd.DataFrame(data=tabular_dataset)\n",
    "interim_dir = \"/home/peterr/macocu/task5_webgenres/data/interim\"\n",
    "df.to_csv(interim_dir+\"/tabular.csv\", index=False)\n",
    "df.head()"
   ]
  },
  {
   "cell_type": "code",
   "execution_count": 12,
   "metadata": {},
   "outputs": [
    {
     "data": {
      "text/plain": [
       "array(['2014', '2021'], dtype=object)"
      ]
     },
     "execution_count": 12,
     "metadata": {},
     "output_type": "execute_result"
    }
   ],
   "source": [
    "df.crawled.unique()"
   ]
  },
  {
   "cell_type": "code",
   "execution_count": 13,
   "metadata": {},
   "outputs": [
    {
     "name": "stdout",
     "output_type": "stream",
     "text": [
      "Unique domains:  721  out of  1002\n"
     ]
    }
   ],
   "source": [
    "nr_of_domains = df.domain.shape[0]\n",
    "nr_of_unique_domains = len(df.domain.unique())\n",
    "print(\"Unique domains: \", nr_of_unique_domains, \" out of \", nr_of_domains)"
   ]
  },
  {
   "cell_type": "markdown",
   "metadata": {},
   "source": [
    "The output of the last cell is worrysome. We will have to assure that no two domains are simultaneously present in a single fold. "
   ]
  },
  {
   "cell_type": "code",
   "execution_count": 14,
   "metadata": {},
   "outputs": [
    {
     "name": "stdout",
     "output_type": "stream",
     "text": [
      "Found 29 domains that were crawled in both years.\n"
     ]
    }
   ],
   "source": [
    "counter = 0\n",
    "distribution = list()\n",
    "for domain in df.domain.unique():\n",
    "    subset = df[df.domain == domain]\n",
    "    if len(subset.crawled.unique()) == 1:\n",
    "        pass\n",
    "    else:\n",
    "        counter += 1\n",
    "    distribution.append(len(subset))\n",
    "print(f\"Found {counter} domains that were crawled in both years.\")"
   ]
  },
  {
   "cell_type": "code",
   "execution_count": 15,
   "metadata": {},
   "outputs": [
    {
     "data": {
      "image/png": "[encoded data removed]",
      "text/plain": [
       "<Figure size 432x288 with 1 Axes>"
      ]
     },
     "metadata": {
      "needs_background": "light"
     },
     "output_type": "display_data"
    }
   ],
   "source": [
    "import matplotlib.pyplot as plt\n",
    "plt.hist(distribution)\n",
    "plt.title(\"Histogram of nr of docs per domain\")\n",
    "plt.show()"
   ]
  },
  {
   "cell_type": "markdown",
   "metadata": {},
   "source": [
    "Ok, so only 29 domains were crawled in both years... Perhaps the stratification by year will be easy.\n",
    "\n",
    "What to do next? Let's first see how the data distribution looks like when only unique domains are taken into account:\n"
   ]
  },
  {
   "cell_type": "code",
   "execution_count": 16,
   "metadata": {},
   "outputs": [],
   "source": [
    "df[\"domain_unique\"] = False\n",
    "for domain in df.domain.unique():\n",
    "    subset = df.loc[df.domain == domain,:]\n",
    "    if len(subset) == 1:\n",
    "        df.loc[df.domain == domain, \"domain_unique\"] = True"
   ]
  },
  {
   "cell_type": "code",
   "execution_count": 17,
   "metadata": {},
   "outputs": [
    {
     "data": {
      "text/html": [
       "<div>\n",
       "<style scoped>\n",
       "    .dataframe tbody tr th:only-of-type {\n",
       "        vertical-align: middle;\n",
       "    }\n",
       "\n",
       "    .dataframe tbody tr th {\n",
       "        vertical-align: top;\n",
       "    }\n",
       "\n",
       "    .dataframe thead th {\n",
       "        text-align: right;\n",
       "    }\n",
       "</style>\n",
       "<table border=\"1\" class=\"dataframe\">\n",
       "  <thead>\n",
       "    <tr style=\"text-align: right;\">\n",
       "      <th></th>\n",
       "      <th>id</th>\n",
       "      <th>url</th>\n",
       "      <th>crawled</th>\n",
       "      <th>primary</th>\n",
       "      <th>secondary</th>\n",
       "      <th>tertiary</th>\n",
       "      <th>hard</th>\n",
       "      <th>paragraphs</th>\n",
       "      <th>domain</th>\n",
       "      <th>domain_unique</th>\n",
       "    </tr>\n",
       "  </thead>\n",
       "  <tbody>\n",
       "    <tr>\n",
       "      <th>0</th>\n",
       "      <td>3949</td>\n",
       "      <td>http://www.pomurje.si/aktualno/sport/zimska-li...</td>\n",
       "      <td>2014</td>\n",
       "      <td>News/Reporting</td>\n",
       "      <td></td>\n",
       "      <td></td>\n",
       "      <td>False</td>\n",
       "      <td>[{'text': 'Šport', 'duplicate': False, 'keep':...</td>\n",
       "      <td>www.pomurje.si</td>\n",
       "      <td>True</td>\n",
       "    </tr>\n",
       "    <tr>\n",
       "      <th>1</th>\n",
       "      <td>3726</td>\n",
       "      <td>http://www.ss-sezana.si/sss/index.php?option=c...</td>\n",
       "      <td>2014</td>\n",
       "      <td>Information/Explanation</td>\n",
       "      <td></td>\n",
       "      <td></td>\n",
       "      <td>False</td>\n",
       "      <td>[{'text': 'JEDILNIK', 'duplicate': False, 'kee...</td>\n",
       "      <td>www.ss-sezana.si</td>\n",
       "      <td>True</td>\n",
       "    </tr>\n",
       "    <tr>\n",
       "      <th>2</th>\n",
       "      <td>5621</td>\n",
       "      <td>http://www.kamnik-starejsi.si/novice/144-sodel...</td>\n",
       "      <td>2014</td>\n",
       "      <td>Promotion</td>\n",
       "      <td>Opinion/Argumentation</td>\n",
       "      <td>Information/Explanation</td>\n",
       "      <td>False</td>\n",
       "      <td>[{'text': 'Projekt INNOVAge in zavod Oreli', '...</td>\n",
       "      <td>www.kamnik-starejsi.si</td>\n",
       "      <td>True</td>\n",
       "    </tr>\n",
       "    <tr>\n",
       "      <th>3</th>\n",
       "      <td>3776</td>\n",
       "      <td>http://www.radiocelje.si/novica.php?id=13007&amp;a...</td>\n",
       "      <td>2014</td>\n",
       "      <td>News/Reporting</td>\n",
       "      <td></td>\n",
       "      <td></td>\n",
       "      <td>False</td>\n",
       "      <td>[{'text': 'V novembru, mesecu preprečevanja od...</td>\n",
       "      <td>www.radiocelje.si</td>\n",
       "      <td>False</td>\n",
       "    </tr>\n",
       "    <tr>\n",
       "      <th>4</th>\n",
       "      <td>2102</td>\n",
       "      <td>http://www.mtv.si/novice/selena-gomez-ponudila...</td>\n",
       "      <td>2014</td>\n",
       "      <td>Opinionated News</td>\n",
       "      <td></td>\n",
       "      <td></td>\n",
       "      <td>False</td>\n",
       "      <td>[{'text': 'Selena Gomez ponudila v poslušanje ...</td>\n",
       "      <td>www.mtv.si</td>\n",
       "      <td>True</td>\n",
       "    </tr>\n",
       "  </tbody>\n",
       "</table>\n",
       "</div>"
      ],
      "text/plain": [
       "     id                                                url crawled  \\\n",
       "0  3949  http://www.pomurje.si/aktualno/sport/zimska-li...    2014   \n",
       "1  3726  http://www.ss-sezana.si/sss/index.php?option=c...    2014   \n",
       "2  5621  http://www.kamnik-starejsi.si/novice/144-sodel...    2014   \n",
       "3  3776  http://www.radiocelje.si/novica.php?id=13007&a...    2014   \n",
       "4  2102  http://www.mtv.si/novice/selena-gomez-ponudila...    2014   \n",
       "\n",
       "                   primary              secondary                 tertiary  \\\n",
       "0           News/Reporting                                                   \n",
       "1  Information/Explanation                                                   \n",
       "2                Promotion  Opinion/Argumentation  Information/Explanation   \n",
       "3           News/Reporting                                                   \n",
       "4         Opinionated News                                                   \n",
       "\n",
       "    hard                                         paragraphs  \\\n",
       "0  False  [{'text': 'Šport', 'duplicate': False, 'keep':...   \n",
       "1  False  [{'text': 'JEDILNIK', 'duplicate': False, 'kee...   \n",
       "2  False  [{'text': 'Projekt INNOVAge in zavod Oreli', '...   \n",
       "3  False  [{'text': 'V novembru, mesecu preprečevanja od...   \n",
       "4  False  [{'text': 'Selena Gomez ponudila v poslušanje ...   \n",
       "\n",
       "                   domain  domain_unique  \n",
       "0          www.pomurje.si           True  \n",
       "1        www.ss-sezana.si           True  \n",
       "2  www.kamnik-starejsi.si           True  \n",
       "3       www.radiocelje.si          False  \n",
       "4              www.mtv.si           True  "
      ]
     },
     "execution_count": 17,
     "metadata": {},
     "output_type": "execute_result"
    }
   ],
   "source": [
    "df.head()"
   ]
  },
  {
   "cell_type": "code",
   "execution_count": 18,
   "metadata": {},
   "outputs": [
    {
     "data": {
      "text/plain": [
       "(556, 10)"
      ]
     },
     "execution_count": 18,
     "metadata": {},
     "output_type": "execute_result"
    }
   ],
   "source": [
    "udf = df[df.domain_unique == True].copy()\n",
    "udf.shape"
   ]
  },
  {
   "cell_type": "code",
   "execution_count": 19,
   "metadata": {},
   "outputs": [
    {
     "data": {
      "image/png": "[encoded data removed]",
      "text/plain": [
       "<Figure size 432x288 with 1 Axes>"
      ]
     },
     "metadata": {
      "needs_background": "light"
     },
     "output_type": "display_data"
    }
   ],
   "source": [
    "plt.hist(udf.crawled)\n",
    "plt.show()"
   ]
  },
  {
   "cell_type": "markdown",
   "metadata": {},
   "source": [
    "Not bad... "
   ]
  },
  {
   "cell_type": "code",
   "execution_count": 41,
   "metadata": {},
   "outputs": [],
   "source": [
    "from sklearn.model_selection import train_test_split\n",
    "\n",
    "train, devtest = train_test_split(df, test_size=0.2, stratify=df.crawled, random_state=42)"
   ]
  },
  {
   "cell_type": "code",
   "execution_count": 42,
   "metadata": {},
   "outputs": [
    {
     "data": {
      "text/plain": [
       "domain\n",
       "ars.rtvslo.si               3\n",
       "astronomija.zlahkoto.si     3\n",
       "bajta.si                    2\n",
       "bazar.coks.si               5\n",
       "bikebook.si                 2\n",
       "                           ..\n",
       "www.zurnal24.si            10\n",
       "www.zvezdni-prah.si         3\n",
       "www.zvvs.si                 2\n",
       "zasrce.si                   2\n",
       "zelisca-cvetka.si           2\n",
       "Name: id, Length: 165, dtype: int64"
      ]
     },
     "execution_count": 42,
     "metadata": {},
     "output_type": "execute_result"
    }
   ],
   "source": [
    "bydomain = df.groupby(\"domain\").count()[\"id\"]\n",
    "problematic_domains = bydomain[bydomain != 1]\n",
    "problematic_domains"
   ]
  },
  {
   "cell_type": "code",
   "execution_count": 43,
   "metadata": {},
   "outputs": [
    {
     "data": {
      "text/plain": [
       "446"
      ]
     },
     "execution_count": 43,
     "metadata": {},
     "output_type": "execute_result"
    }
   ],
   "source": [
    "problematic_domains.sum()"
   ]
  },
  {
   "cell_type": "code",
   "execution_count": 44,
   "metadata": {},
   "outputs": [
    {
     "name": "stdout",
     "output_type": "stream",
     "text": [
      "Domain ars.rtvslo.si found in both! Domain astronomija.zlahkoto.si found in both! Domain bajta.si found in both! Domain blog.druzinskapobuda.si found in both! Domain dk.um.si found in both! Domain dkum.ukm.si found in both! Domain jodlajodla.si found in both! Domain konji.si found in both! Domain locutio.si found in both! Domain metinalista.si found in both! Domain mikec.si found in both! Domain mladipodjetnik.si found in both! Domain old.radiostudent.si found in both! Domain predlagam.vladi.si found in both! Domain radio.ognjisce.si found in both! Domain realmadrid.si found in both! Domain regionalgoriska.si found in both! Domain tisa.blog.siol.net found in both! Domain trgovina.racunovodja.si found in both! Domain user.spletnik.si found in both! Domain vestnik.si found in both! Domain www-test.mercator.si found in both! Domain www.24ur.com found in both! Domain www.aler.si found in both! Domain www.babycenter.si found in both! Domain www.bolezen.si found in both! Domain www.digimedia.si found in both! Domain www.dnevnik.si found in both! Domain www.dusmarje.si found in both! Domain www.ecco-verde.si found in both! Domain www.esnm.si found in both! Domain www.fashionista.si found in both! Domain www.flegis.si found in both! Domain www.gov.si found in both! Domain www.insolvinfo.si found in both! Domain www.instore.si found in both! Domain www.joker.si found in both! Domain www.kamra.si found in both! Domain www.mc-celje.si found in both! Domain www.miroslav-vilhar.si found in both! Domain www.modrijan.si found in both! Domain www.mojster.si found in both! Domain www.motosvet.com found in both! Domain www.narodnjak.si found in both! Domain www.novus.si found in both! Domain www.odbojka.si found in both! Domain www.opvbistricams.si found in both! Domain www.os-naklo.si found in both! Domain www.preberite.si found in both! Domain www.publishwall.si found in both! Domain www.radiotriglav.si found in both! Domain www.saiorg.si found in both! Domain www.sloski.si found in both! Domain www.slovenskenovice.si found in both! Domain www.sodnapraksa.si found in both! Domain www.sportklubtv.si found in both! Domain www.studentska-trgovina.si found in both! Domain www.up-rs.si found in both! Domain www.varcevanje-energije.si found in both! Domain www.velenje.si found in both! Domain www.zavodviva.si found in both! Domain www.zdravstveniportal.si found in both! Domain www.zurnal24.si found in both! Domain www.zvezdni-prah.si found in both! Domain www.zvvs.si found in both! Domain zasrce.si found in both! "
     ]
    }
   ],
   "source": [
    "for i, domain in enumerate(problematic_domains.index):\n",
    "    if domain in train.domain.unique() and domain in devtest.domain.unique():\n",
    "        print(f\"Domain {domain} found in both!\", end=\" \")\n",
    "    else:\n",
    "        continue\n",
    "    if i%5 == 0:\n",
    "        indices_to_transfer_to_devtest = train.domain == domain\n",
    "        devtest = pd.concat([devtest, train[indices_to_transfer_to_devtest]], ignore_index=True)\n",
    "        train = train[~indices_to_transfer_to_devtest]\n",
    "    else:\n",
    "        indices_to_transfer_to_train = devtest.domain == domain\n",
    "        train = pd.concat([train, devtest[indices_to_transfer_to_train]], ignore_index=True)\n",
    "        devtest = devtest[~indices_to_transfer_to_train]\n",
    "    devtest.reset_index(drop=True, inplace=True)\n",
    "    train.reset_index(drop=True, inplace=True)\n",
    "    "
   ]
  },
  {
   "cell_type": "code",
   "execution_count": 45,
   "metadata": {},
   "outputs": [
    {
     "data": {
      "text/plain": [
       "(820, 182)"
      ]
     },
     "execution_count": 45,
     "metadata": {},
     "output_type": "execute_result"
    }
   ],
   "source": [
    "train.shape[0], devtest.shape[0]"
   ]
  },
  {
   "cell_type": "code",
   "execution_count": 46,
   "metadata": {},
   "outputs": [
    {
     "data": {
      "text/plain": [
       "0.18163672654690619"
      ]
     },
     "execution_count": 46,
     "metadata": {},
     "output_type": "execute_result"
    }
   ],
   "source": [
    "182/(182+820)"
   ]
  },
  {
   "cell_type": "code",
   "execution_count": 47,
   "metadata": {},
   "outputs": [
    {
     "data": {
      "text/html": [
       "<div>\n",
       "<style scoped>\n",
       "    .dataframe tbody tr th:only-of-type {\n",
       "        vertical-align: middle;\n",
       "    }\n",
       "\n",
       "    .dataframe tbody tr th {\n",
       "        vertical-align: top;\n",
       "    }\n",
       "\n",
       "    .dataframe thead th {\n",
       "        text-align: right;\n",
       "    }\n",
       "</style>\n",
       "<table border=\"1\" class=\"dataframe\">\n",
       "  <thead>\n",
       "    <tr style=\"text-align: right;\">\n",
       "      <th></th>\n",
       "      <th>id</th>\n",
       "      <th>url</th>\n",
       "      <th>crawled</th>\n",
       "      <th>primary</th>\n",
       "      <th>secondary</th>\n",
       "      <th>tertiary</th>\n",
       "      <th>hard</th>\n",
       "      <th>paragraphs</th>\n",
       "      <th>domain</th>\n",
       "      <th>domain_unique</th>\n",
       "    </tr>\n",
       "  </thead>\n",
       "  <tbody>\n",
       "    <tr>\n",
       "      <th>0</th>\n",
       "      <td>988331</td>\n",
       "      <td>https://www.ciciban-nm.si/sl/novice/racke-nara...</td>\n",
       "      <td>2021</td>\n",
       "      <td>Opinion/Argumentation</td>\n",
       "      <td></td>\n",
       "      <td></td>\n",
       "      <td>False</td>\n",
       "      <td>[{'text': 'Račke: narava na prostem', 'duplica...</td>\n",
       "      <td>www.ciciban-nm.si</td>\n",
       "      <td>True</td>\n",
       "    </tr>\n",
       "    <tr>\n",
       "      <th>1</th>\n",
       "      <td>6208</td>\n",
       "      <td>http://www.romskiodmevi.si/novice/653-pogovorn...</td>\n",
       "      <td>2014</td>\n",
       "      <td>News/Reporting</td>\n",
       "      <td></td>\n",
       "      <td></td>\n",
       "      <td>False</td>\n",
       "      <td>[{'text': 'Novice', 'duplicate': False, 'keep'...</td>\n",
       "      <td>www.romskiodmevi.si</td>\n",
       "      <td>True</td>\n",
       "    </tr>\n",
       "    <tr>\n",
       "      <th>2</th>\n",
       "      <td>1411077</td>\n",
       "      <td>https://www.koopautomotive.si/air-nex-9320-pol...</td>\n",
       "      <td>2021</td>\n",
       "      <td>Promotion</td>\n",
       "      <td></td>\n",
       "      <td></td>\n",
       "      <td>False</td>\n",
       "      <td>[{'text': 'Prijava uporabnika', 'duplicate': T...</td>\n",
       "      <td>www.koopautomotive.si</td>\n",
       "      <td>True</td>\n",
       "    </tr>\n",
       "    <tr>\n",
       "      <th>3</th>\n",
       "      <td>4008994</td>\n",
       "      <td>http://ff.um.si/raziskovanje/</td>\n",
       "      <td>2021</td>\n",
       "      <td>Information/Explanation</td>\n",
       "      <td></td>\n",
       "      <td>Promotion of Services</td>\n",
       "      <td>False</td>\n",
       "      <td>[{'text': 'Filozofska fakulteta Univerze v Mar...</td>\n",
       "      <td>ff.um.si</td>\n",
       "      <td>True</td>\n",
       "    </tr>\n",
       "    <tr>\n",
       "      <th>4</th>\n",
       "      <td>13484786</td>\n",
       "      <td>https://www.karcher-trg.si/izdelki-karcher/dom...</td>\n",
       "      <td>2021</td>\n",
       "      <td>Promotion</td>\n",
       "      <td></td>\n",
       "      <td></td>\n",
       "      <td>False</td>\n",
       "      <td>[{'text': 'Zaradi trenutne situacije s Covid-1...</td>\n",
       "      <td>www.karcher-trg.si</td>\n",
       "      <td>True</td>\n",
       "    </tr>\n",
       "  </tbody>\n",
       "</table>\n",
       "</div>"
      ],
      "text/plain": [
       "         id                                                url crawled  \\\n",
       "0    988331  https://www.ciciban-nm.si/sl/novice/racke-nara...    2021   \n",
       "1      6208  http://www.romskiodmevi.si/novice/653-pogovorn...    2014   \n",
       "2   1411077  https://www.koopautomotive.si/air-nex-9320-pol...    2021   \n",
       "3   4008994                      http://ff.um.si/raziskovanje/    2021   \n",
       "4  13484786  https://www.karcher-trg.si/izdelki-karcher/dom...    2021   \n",
       "\n",
       "                   primary secondary               tertiary   hard  \\\n",
       "0    Opinion/Argumentation                                   False   \n",
       "1           News/Reporting                                   False   \n",
       "2                Promotion                                   False   \n",
       "3  Information/Explanation            Promotion of Services  False   \n",
       "4                Promotion                                   False   \n",
       "\n",
       "                                          paragraphs                 domain  \\\n",
       "0  [{'text': 'Račke: narava na prostem', 'duplica...      www.ciciban-nm.si   \n",
       "1  [{'text': 'Novice', 'duplicate': False, 'keep'...    www.romskiodmevi.si   \n",
       "2  [{'text': 'Prijava uporabnika', 'duplicate': T...  www.koopautomotive.si   \n",
       "3  [{'text': 'Filozofska fakulteta Univerze v Mar...               ff.um.si   \n",
       "4  [{'text': 'Zaradi trenutne situacije s Covid-1...     www.karcher-trg.si   \n",
       "\n",
       "   domain_unique  \n",
       "0           True  \n",
       "1           True  \n",
       "2           True  \n",
       "3           True  \n",
       "4           True  "
      ]
     },
     "execution_count": 47,
     "metadata": {},
     "output_type": "execute_result"
    }
   ],
   "source": [
    "train.head()"
   ]
  },
  {
   "cell_type": "code",
   "execution_count": 48,
   "metadata": {},
   "outputs": [
    {
     "data": {
      "image/png": "[encoded data removed]",
      "text/plain": [
       "<Figure size 432x288 with 1 Axes>"
      ]
     },
     "metadata": {
      "needs_background": "light"
     },
     "output_type": "display_data"
    }
   ],
   "source": [
    "plt.hist(train.crawled, label=\"train dataset\", density=True, histtype=\"step\")\n",
    "plt.hist(devtest.crawled, label=\"devtest dataset\", density=True, histtype=\"step\")\n",
    "plt.legend(loc=\"center\")\n",
    "plt.title(\"Normed histogram of the datasets crawl dates\")\n",
    "plt.show()"
   ]
  },
  {
   "cell_type": "markdown",
   "metadata": {},
   "source": [
    "Ok, so this worked suprisingly ok. Let's again test that the data has not leaked into both splits:"
   ]
  },
  {
   "cell_type": "code",
   "execution_count": 49,
   "metadata": {},
   "outputs": [],
   "source": [
    "for i, domain in enumerate(problematic_domains.index):\n",
    "    if domain in train.domain.unique() and domain in devtest.domain.unique():\n",
    "        print(f\"Domain {domain} found in both!\")"
   ]
  },
  {
   "cell_type": "markdown",
   "metadata": {},
   "source": [
    "Notice how this produced no hits.\n",
    "\n",
    "![Good, good](http://www.quickmeme.com/img/5e/5eff1c377f48790ca75a9a9878660481eeb4fde0172a2ad49505dc15890486c8.jpg)\n",
    "\n",
    "Moving on, we still have to perform the same splitting on dev and test data:"
   ]
  },
  {
   "cell_type": "code",
   "execution_count": 56,
   "metadata": {},
   "outputs": [
    {
     "data": {
      "text/plain": [
       "domain\n",
       "ars.rtvslo.si                  3\n",
       "blog.cosmopolitan.si           2\n",
       "konji.si                       2\n",
       "mikec.si                       3\n",
       "old.radiostudent.si            3\n",
       "radio.ognjisce.si              3\n",
       "tisa.blog.siol.net             4\n",
       "www.24ur.com                   4\n",
       "www.dusmarje.si                2\n",
       "www.gov.si                     3\n",
       "www.joker.si                   2\n",
       "www.meikyokan.si               3\n",
       "www.miroslav-vilhar.si         3\n",
       "www.narodnjak.si               3\n",
       "www.opvbistricams.si           3\n",
       "www.preberite.si               2\n",
       "www.sloski.si                  3\n",
       "www.sonce-nepremicnine.si      2\n",
       "www.studentska-trgovina.si     2\n",
       "www.up-rs.si                   3\n",
       "www.zurnal24.si               10\n",
       "Name: id, dtype: int64"
      ]
     },
     "execution_count": 56,
     "metadata": {},
     "output_type": "execute_result"
    }
   ],
   "source": [
    "dev, test = train_test_split(devtest, test_size=0.5, stratify=devtest.crawled, random_state=42)\n",
    "\n",
    "bydomain = devtest.groupby(\"domain\").count()[\"id\"]\n",
    "problematic_domains = bydomain[bydomain != 1]\n",
    "problematic_domains"
   ]
  },
  {
   "cell_type": "code",
   "execution_count": 57,
   "metadata": {},
   "outputs": [
    {
     "name": "stdout",
     "output_type": "stream",
     "text": [
      "Domain ars.rtvslo.si found in both! Domain konji.si found in both! Domain mikec.si found in both! Domain old.radiostudent.si found in both! Domain radio.ognjisce.si found in both! Domain tisa.blog.siol.net found in both! Domain www.24ur.com found in both! Domain www.dusmarje.si found in both! Domain www.gov.si found in both! Domain www.meikyokan.si found in both! Domain www.miroslav-vilhar.si found in both! Domain www.narodnjak.si found in both! Domain www.opvbistricams.si found in both! Domain www.sloski.si found in both! Domain www.sonce-nepremicnine.si found in both! Domain www.studentska-trgovina.si found in both! Domain www.up-rs.si found in both! Domain www.zurnal24.si found in both! "
     ]
    }
   ],
   "source": [
    "for i, domain in enumerate(problematic_domains.index):\n",
    "    if domain in test.domain.unique() and domain in dev.domain.unique():\n",
    "        print(f\"Domain {domain} found in both!\", end=\" \")\n",
    "    else:\n",
    "        continue\n",
    "    if i%2 != 0:\n",
    "        indices_to_transfer_to_dev = test.domain == domain\n",
    "        dev = pd.concat([dev, test[indices_to_transfer_to_dev]], ignore_index=True)\n",
    "        test = test[~indices_to_transfer_to_dev]\n",
    "    else:\n",
    "        indices_to_transfer_to_test = dev.domain == domain\n",
    "        test = pd.concat([test, dev[indices_to_transfer_to_test]], ignore_index=True)\n",
    "        dev = dev[~indices_to_transfer_to_test]\n",
    "    dev.reset_index(drop=True, inplace=True)\n",
    "    test.reset_index(drop=True, inplace=True)"
   ]
  },
  {
   "cell_type": "code",
   "execution_count": 58,
   "metadata": {},
   "outputs": [
    {
     "data": {
      "image/png": "[encoded data removed]",
      "text/plain": [
       "<Figure size 432x288 with 1 Axes>"
      ]
     },
     "metadata": {
      "needs_background": "light"
     },
     "output_type": "display_data"
    }
   ],
   "source": [
    "density = True\n",
    "\n",
    "plt.hist(train.crawled, label=\"train dataset\", density=density, histtype=\"step\")\n",
    "plt.hist(dev.crawled, label=\"dev dataset\", density=density, histtype=\"step\")\n",
    "plt.hist(test.crawled, label=\"test dataset\", density=density, histtype=\"step\")\n",
    "plt.legend(loc=\"center\")\n",
    "plt.title(\"Normed histogram of the datasets crawl dates\")\n",
    "plt.show()"
   ]
  },
  {
   "cell_type": "code",
   "execution_count": 60,
   "metadata": {},
   "outputs": [],
   "source": [
    "bydomain = df.groupby(\"domain\").count()[\"id\"]\n",
    "problematic_domains = bydomain[bydomain != 1]\n",
    "\n",
    "for i, domain in enumerate(problematic_domains.index):\n",
    "    is_in_train = domain in train.domain.unique()\n",
    "    is_in_dev = domain in dev.domain.unique()\n",
    "    is_in_test = domain in test.domain.unique()\n",
    "    if sum([is_in_train, is_in_dev, is_in_test]) > 1:\n",
    "        print(f\"Domain {domain} found in more than one split!\")"
   ]
  },
  {
   "cell_type": "markdown",
   "metadata": {},
   "source": [
    "As this histogram and the lack of output from the last cell show, we successfully performed the stratified and leak-proof spilling!\n",
    "\n",
    "![](https://www.bestpuppy.com/assets/images/bestpuppy/Hooray_For_Play_Time.jpg)\n",
    "\n",
    "We can now save the data and use it later to perform whatever we wish.\n"
   ]
  },
  {
   "cell_type": "code",
   "execution_count": 62,
   "metadata": {},
   "outputs": [],
   "source": [
    "import os\n",
    "\n",
    "interim_dir = \"/home/peterr/macocu/task5_webgenres/data/interim\"\n",
    "\n",
    "train.to_csv(os.path.join(interim_dir, \"train.csv\"), index=False)\n",
    "test.to_csv(os.path.join(interim_dir, \"test.csv\"), index=False)\n",
    "dev.to_csv(os.path.join(interim_dir, \"dev.csv\"), index=False)"
   ]
  },
  {
   "cell_type": "code",
   "execution_count": null,
   "metadata": {},
   "outputs": [],
   "source": []
  }
 ],
 "metadata": {
  "interpreter": {
   "hash": "7f6f5766036ee03d059e365a942add07f79c17033585e9357ee8157d52fe6bb9"
  },
  "kernelspec": {
   "display_name": "Python 3.8.3 64-bit ('base': conda)",
   "name": "python3"
  },
  "language_info": {
   "codemirror_mode": {
    "name": "ipython",
    "version": 3
   },
   "file_extension": ".py",
   "mimetype": "text/x-python",
   "name": "python",
   "nbconvert_exporter": "python",
   "pygments_lexer": "ipython3",
   "version": "3.8.3"
  },
  "orig_nbformat": 4
 },
 "nbformat": 4,
 "nbformat_minor": 2
}
